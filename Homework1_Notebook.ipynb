{
 "cells": [
  {
   "cell_type": "markdown",
   "id": "40ac3035-bd39-495d-b093-f3e016e6ef1b",
   "metadata": {},
   "source": [
    "# Problem 1"
   ]
  },
  {
   "cell_type": "markdown",
   "id": "37c1721e-9ddb-48a4-9cba-bfd2c40a0ff0",
   "metadata": {},
   "source": [
    "## Introduction"
   ]
  },
  {
   "cell_type": "markdown",
   "id": "7193383d-939c-470f-9b32-63a44cdff81a",
   "metadata": {},
   "source": [
    "### Say \"Hello, World!\" With Python"
   ]
  },
  {
   "cell_type": "code",
   "execution_count": 1,
   "id": "d933ca57-30e6-4106-affe-48d105791456",
   "metadata": {},
   "outputs": [
    {
     "name": "stdout",
     "output_type": "stream",
     "text": [
      "Hello, World!\n"
     ]
    }
   ],
   "source": [
    "print(\"Hello, World!\")"
   ]
  },
  {
   "cell_type": "markdown",
   "id": "924545db-fdf8-4e19-b676-44bde3f5e049",
   "metadata": {},
   "source": [
    "### Python If-Else"
   ]
  },
  {
   "cell_type": "code",
   "execution_count": 2,
   "id": "53048298-8e33-4caa-b600-4d76266b129a",
   "metadata": {},
   "outputs": [
    {
     "name": "stdin",
     "output_type": "stream",
     "text": [
      " 2\n"
     ]
    },
    {
     "name": "stdout",
     "output_type": "stream",
     "text": [
      "Not Weird\n"
     ]
    }
   ],
   "source": [
    "#!/bin/python3\n",
    "\n",
    "import math\n",
    "import os\n",
    "import random\n",
    "import re\n",
    "import sys\n",
    "\n",
    "def _analysis(n):\n",
    "    if (n % 2 != 0):\n",
    "        return \"Weird\"\n",
    "    if(n>=2 and n<=5 ):\n",
    "        return \"Not Weird\"\n",
    "    if(n>=6 and n<=20):\n",
    "        return \"Weird\"\n",
    "    if(n>=20):\n",
    "        return \"Not Weird\"        \n",
    "    \n",
    "\n",
    "if __name__ == '__main__':\n",
    "    n = int(input().strip())\n",
    "    if (n>=1 and n<=100):\n",
    "        print(_analysis(n))"
   ]
  },
  {
   "cell_type": "markdown",
   "id": "38cdcc8b-6df4-41ab-aca5-5f0a3c810835",
   "metadata": {},
   "source": [
    "### Arithmetic Operators"
   ]
  },
  {
   "cell_type": "code",
   "execution_count": 3,
   "id": "09618433-de50-4f16-93d9-192d5edaac30",
   "metadata": {},
   "outputs": [
    {
     "name": "stdin",
     "output_type": "stream",
     "text": [
      " 3\n",
      " 10\n"
     ]
    },
    {
     "name": "stdout",
     "output_type": "stream",
     "text": [
      "13\n",
      "-7\n",
      "30\n"
     ]
    }
   ],
   "source": [
    "if __name__ == '__main__':\n",
    "    a = int(input())\n",
    "    b = int(input())\n",
    "    print(a+b)\n",
    "    print(a-b)\n",
    "    print(a*b)"
   ]
  },
  {
   "cell_type": "markdown",
   "id": "5874d369-2f1a-49a3-aa61-25ba8264c946",
   "metadata": {},
   "source": [
    "### Python: Division"
   ]
  },
  {
   "cell_type": "code",
   "execution_count": 4,
   "id": "d44045a7-bcf5-432e-9aea-0964c272594f",
   "metadata": {},
   "outputs": [
    {
     "name": "stdin",
     "output_type": "stream",
     "text": [
      " 6\n",
      " 3\n"
     ]
    },
    {
     "name": "stdout",
     "output_type": "stream",
     "text": [
      "2\n",
      "2.0\n"
     ]
    }
   ],
   "source": [
    "if __name__ == '__main__':\n",
    "    a = int(input())\n",
    "    b = int(input())\n",
    "    print(a//b)\n",
    "    print(a/b)"
   ]
  },
  {
   "cell_type": "markdown",
   "id": "9e3d65bb-97c3-4506-a66e-00aa4be4cd33",
   "metadata": {},
   "source": [
    "### Loops"
   ]
  },
  {
   "cell_type": "code",
   "execution_count": 5,
   "id": "dbca09bd-d3b4-475c-bd63-6ae04e4818e4",
   "metadata": {},
   "outputs": [
    {
     "name": "stdin",
     "output_type": "stream",
     "text": [
      " 3\n"
     ]
    },
    {
     "name": "stdout",
     "output_type": "stream",
     "text": [
      "0\n",
      "1\n",
      "4\n"
     ]
    }
   ],
   "source": [
    "if __name__ == '__main__':\n",
    "    n = int(input())\n",
    "    for i in range(n):\n",
    "        print(i**2)"
   ]
  },
  {
   "cell_type": "markdown",
   "id": "7d812bd2-0fbb-4f6d-b316-3b4a0c5d2eeb",
   "metadata": {},
   "source": [
    "### Write a function"
   ]
  },
  {
   "cell_type": "code",
   "execution_count": 6,
   "id": "0adb2192-0580-4e41-b788-4604049f895a",
   "metadata": {},
   "outputs": [],
   "source": [
    "def is_leap(year):\n",
    "    leap = False\n",
    "    if(year%4 == 0):\n",
    "        leap=True\n",
    "    if(year%100==0):\n",
    "        leap=False\n",
    "    if(year%400==0):\n",
    "        leap=True\n",
    "    return leap"
   ]
  },
  {
   "cell_type": "markdown",
   "id": "d7ffd947-2064-4956-96cb-7e5073442f59",
   "metadata": {},
   "source": [
    "### Print Function"
   ]
  },
  {
   "cell_type": "code",
   "execution_count": 7,
   "id": "55bb545d-96c9-4e2f-89d5-33d7a64d9940",
   "metadata": {},
   "outputs": [
    {
     "name": "stdin",
     "output_type": "stream",
     "text": [
      " 5\n"
     ]
    },
    {
     "name": "stdout",
     "output_type": "stream",
     "text": [
      "12345"
     ]
    }
   ],
   "source": [
    "if __name__ == '__main__':\n",
    "    n = int(input())\n",
    "    numbers=[]\n",
    "    for i in range(n):\n",
    "        print(i+1,end='')"
   ]
  },
  {
   "cell_type": "markdown",
   "id": "9cdb2598-31eb-4487-bf60-c84bd13571b4",
   "metadata": {},
   "source": [
    "## Basic Data Types"
   ]
  },
  {
   "cell_type": "markdown",
   "id": "b210df8e-86fa-4298-bb6d-744eaf247dd5",
   "metadata": {},
   "source": [
    "### List Comprehensions"
   ]
  },
  {
   "cell_type": "code",
   "execution_count": 20,
   "id": "258cfedb-03c6-481c-8265-71bbc6b00426",
   "metadata": {},
   "outputs": [
    {
     "name": "stdin",
     "output_type": "stream",
     "text": [
      " 1\n",
      " 1\n",
      " 1\n",
      " 2\n"
     ]
    },
    {
     "name": "stdout",
     "output_type": "stream",
     "text": [
      "[[0, 0, 0], [0, 0, 1], [0, 1, 0], [1, 0, 0], [1, 1, 1]]\n"
     ]
    }
   ],
   "source": [
    "if __name__ == '__main__':\n",
    "    x = int(input())\n",
    "    y = int(input())\n",
    "    z = int(input())\n",
    "    n = int(input())\n",
    "    print([[i, j, k] \n",
    "    for i in range(x + 1) for j in range(y + 1) for k in range(z + 1) if i + j + k != n])"
   ]
  },
  {
   "cell_type": "markdown",
   "id": "cd74cfeb-7f03-42a9-a680-8e6fb449e406",
   "metadata": {},
   "source": [
    "### Find the Runner-Up Score!"
   ]
  },
  {
   "cell_type": "code",
   "execution_count": 22,
   "id": "8adf1352-1748-4281-9036-7fc9458453ae",
   "metadata": {},
   "outputs": [
    {
     "name": "stdin",
     "output_type": "stream",
     "text": [
      " 5\n",
      " 2 3 6 6 5\n"
     ]
    },
    {
     "name": "stdout",
     "output_type": "stream",
     "text": [
      "5\n"
     ]
    }
   ],
   "source": [
    "if __name__ == '__main__':\n",
    "    n = int(input())\n",
    "    arr = map(int, input().split())\n",
    "    my_list = list(set(arr))\n",
    "    my_list.sort()\n",
    "    if len(my_list) == 1:\n",
    "        print(my_list[0])\n",
    "    elif len(my_list) >= 2:\n",
    "        print(my_list[-2])"
   ]
  },
  {
   "cell_type": "markdown",
   "id": "d17a0e2a-1d73-40e0-9522-2ce92424f504",
   "metadata": {},
   "source": [
    "### Nested Lists"
   ]
  },
  {
   "cell_type": "code",
   "execution_count": 23,
   "id": "87bc477f-0670-4e27-a7ac-6b40186f52d7",
   "metadata": {},
   "outputs": [
    {
     "name": "stdin",
     "output_type": "stream",
     "text": [
      " 5\n",
      " Harry\n",
      " 37.21\n",
      " Berry\n",
      " 37.21\n",
      " Tina\n",
      " 37.2\n",
      " Akriti\n",
      " 41\n",
      " Harsh\n",
      " 39\n"
     ]
    },
    {
     "name": "stdout",
     "output_type": "stream",
     "text": [
      "Berry\n",
      "Harry\n"
     ]
    }
   ],
   "source": [
    "def second_lowests(grades):\n",
    "    grades = iter(grades)\n",
    "    lname, lowest = next(grades)\n",
    "    slname, slowest = next(grades)\n",
    "    if slowest < lowest:\n",
    "        lowest, slowest = slowest, lowest\n",
    "        names = [lname]\n",
    "    elif slowest == lowest: # we don't know, if lowest can be second lowest!\n",
    "        names = [lname, slname]\n",
    "    else:\n",
    "        names = [slname]\n",
    "\n",
    "    for name, score in grades:\n",
    "        if score == slowest:\n",
    "            names.append(name)\n",
    "            continue\n",
    "        if score == lowest:\n",
    "            continue\n",
    "        if score < lowest:\n",
    "            if slowest == lowest:\n",
    "                pass\n",
    "            else:\n",
    "                names = [lname]\n",
    "            lowest, slowest = score, lowest\n",
    "            lname = name\n",
    "        elif score < slowest:\n",
    "            slowest = score\n",
    "            names = [name]\n",
    "        elif score > slowest and slowest == lowest:\n",
    "            slowest = score\n",
    "            names = [name]\n",
    "\n",
    "    if slowest == lowest: # all have same score\n",
    "        return []\n",
    "    names.sort()\n",
    "    return names\n",
    "\n",
    "\n",
    "if __name__ == '__main__':\n",
    "    lista = []\n",
    "    for _ in range(int(input())):\n",
    "        name = input()\n",
    "        score = float(input())\n",
    "        lista.append([name, score])\n",
    "    assert 2 <= len(lista) <= 5\n",
    "    print (\"\\n\".join(second_lowests(lista)))"
   ]
  },
  {
   "cell_type": "markdown",
   "id": "0444463d-4928-44ca-96c3-2690de11dffd",
   "metadata": {},
   "source": [
    "### Finding the percentage"
   ]
  },
  {
   "cell_type": "code",
   "execution_count": 24,
   "id": "ebf781d3-ef42-43dc-a5e7-8cfed151c97f",
   "metadata": {},
   "outputs": [
    {
     "name": "stdin",
     "output_type": "stream",
     "text": [
      " 3\n",
      " Krishna 67 68 69\n",
      " Arjun 70 98 63\n",
      " Malika 52 56 60\n",
      " Malika\n"
     ]
    },
    {
     "name": "stdout",
     "output_type": "stream",
     "text": [
      "56.00\n"
     ]
    }
   ],
   "source": [
    "if __name__ == '__main__':\n",
    "    n = int(input())\n",
    "    student_marks = {}\n",
    "    for _ in range(n):\n",
    "        name, *line = input().split()\n",
    "        scores = list(map(float, line))\n",
    "        student_marks[name] = scores\n",
    "    query_name = input()\n",
    "    print(\"%.2f\" %(sum(student_marks[query_name])/len(student_marks[query_name])))"
   ]
  },
  {
   "cell_type": "markdown",
   "id": "c80fa981-08a9-4acd-b933-4a6dc2cf736d",
   "metadata": {},
   "source": [
    "### Lists "
   ]
  },
  {
   "cell_type": "code",
   "execution_count": 19,
   "id": "ac7540e2-645a-4f9e-a801-eba7bb816006",
   "metadata": {},
   "outputs": [
    {
     "name": "stdin",
     "output_type": "stream",
     "text": [
      " 12\n"
     ]
    },
    {
     "name": "stdout",
     "output_type": "stream",
     "text": [
      "12\n"
     ]
    },
    {
     "name": "stdin",
     "output_type": "stream",
     "text": [
      " insert 0 5\n",
      " insert 1 10\n",
      " insert 0 6\n",
      " print\n"
     ]
    },
    {
     "name": "stdout",
     "output_type": "stream",
     "text": [
      "[6, 5, 10]\n"
     ]
    },
    {
     "name": "stdin",
     "output_type": "stream",
     "text": [
      " remove 6\n",
      " append 9\n",
      " append 1\n",
      " sort\n",
      " print\n"
     ]
    },
    {
     "name": "stdout",
     "output_type": "stream",
     "text": [
      "[1, 5, 9, 10]\n"
     ]
    },
    {
     "name": "stdin",
     "output_type": "stream",
     "text": [
      " pop\n",
      " reverse\n",
      " print\n"
     ]
    },
    {
     "name": "stdout",
     "output_type": "stream",
     "text": [
      "[9, 5, 1]\n"
     ]
    }
   ],
   "source": [
    "n = input()\n",
    "print(n)\n",
    "l = []\n",
    "for _ in range(int(n)):\n",
    "    s = input().split()\n",
    "    cmd = s[0]\n",
    "    args = s[1:]\n",
    "    if cmd !=\"print\":\n",
    "        cmd += \"(\"+ \",\".join(args) +\")\"\n",
    "        eval(\"l.\"+cmd)\n",
    "    else:\n",
    "        print (l)"
   ]
  },
  {
   "cell_type": "markdown",
   "id": "048a8596-0b75-406b-810a-a4faa262c8d6",
   "metadata": {},
   "source": [
    "### Tuples"
   ]
  },
  {
   "cell_type": "code",
   "execution_count": 25,
   "id": "b9470160-ae6a-4e2a-ac98-8c6fabb25a9f",
   "metadata": {},
   "outputs": [
    {
     "name": "stdin",
     "output_type": "stream",
     "text": [
      " 2\n",
      " 1 2\n"
     ]
    },
    {
     "name": "stdout",
     "output_type": "stream",
     "text": [
      "-3550055125485641917\n"
     ]
    }
   ],
   "source": [
    "if __name__ == '__main__':\n",
    "    n = int(input())\n",
    "    integer_list = list(map(int, input().split()))\n",
    "    t = tuple(integer_list)\n",
    "    print(hash(t))"
   ]
  },
  {
   "cell_type": "markdown",
   "id": "27d3001b-7465-41c1-8876-f5e6590aeb55",
   "metadata": {},
   "source": [
    "## Strings"
   ]
  },
  {
   "cell_type": "markdown",
   "id": "44157f3f-e778-4504-89ef-a6d0658eec25",
   "metadata": {},
   "source": [
    "### sWAP cASE"
   ]
  },
  {
   "cell_type": "code",
   "execution_count": 27,
   "id": "4d41ca82-ff26-4c6e-9b6f-e78b1cc8f996",
   "metadata": {},
   "outputs": [],
   "source": [
    "def swap_case(s):\n",
    "    return s.swapcase()"
   ]
  },
  {
   "cell_type": "markdown",
   "id": "7eaa0974-ea82-41a6-825e-cc6f55168421",
   "metadata": {},
   "source": [
    "### String Split and Join\n",
    "\n"
   ]
  },
  {
   "cell_type": "code",
   "execution_count": 28,
   "id": "013dfffe-6e4b-43d3-b1d4-56ddceca357c",
   "metadata": {},
   "outputs": [],
   "source": [
    "def split_and_join(line):\n",
    "    T = line.split(\" \")\n",
    "    return (\"-\".join(T))"
   ]
  },
  {
   "cell_type": "markdown",
   "id": "e4755a46-5a64-4ef2-82b4-6d1662843ce9",
   "metadata": {},
   "source": [
    "### What's Your Name?\n",
    "\n"
   ]
  },
  {
   "cell_type": "code",
   "execution_count": 29,
   "id": "de9c59d4-ff79-4e04-a70e-be655e087c75",
   "metadata": {},
   "outputs": [],
   "source": [
    "def print_full_name(a, b):\n",
    "    print (\"Hello\", a, b + \"! You just delved into python.\")"
   ]
  },
  {
   "cell_type": "markdown",
   "id": "ce9ad849-e2d4-471a-bc46-1c5f820f6fa6",
   "metadata": {},
   "source": [
    "### Mutations"
   ]
  },
  {
   "cell_type": "code",
   "execution_count": 30,
   "id": "591c0f14-6a6a-4867-b42b-3576669e724e",
   "metadata": {},
   "outputs": [],
   "source": [
    "def mutate_string(string, position, character):\n",
    "    pos = position+1\n",
    "    Output = string[:position]+character+string[pos:]\n",
    "    return Output"
   ]
  },
  {
   "cell_type": "markdown",
   "id": "9e85e362-2416-4bb3-863a-0d4ef77b35ba",
   "metadata": {},
   "source": [
    "### Find a string\n",
    "\n"
   ]
  },
  {
   "cell_type": "code",
   "execution_count": 31,
   "id": "85e23a64-fe83-4ead-b315-fec913f34c02",
   "metadata": {},
   "outputs": [],
   "source": [
    "def count_substring(string, sub_string):\n",
    "    count = start = 0\n",
    "    while True:\n",
    "        start = string.find(sub_string, start) + 1\n",
    "        if start > 0:\n",
    "            count+=1\n",
    "        else:\n",
    "            return count"
   ]
  },
  {
   "cell_type": "markdown",
   "id": "927705aa-42d8-4967-949e-187209698b30",
   "metadata": {},
   "source": [
    "### String Validators\n",
    "\n"
   ]
  },
  {
   "cell_type": "code",
   "execution_count": 32,
   "id": "33c62740-bb2d-4948-b784-cc2be4e7cb98",
   "metadata": {},
   "outputs": [
    {
     "name": "stdin",
     "output_type": "stream",
     "text": [
      " qA2\n"
     ]
    },
    {
     "name": "stdout",
     "output_type": "stream",
     "text": [
      "True\n",
      "True\n",
      "True\n",
      "True\n",
      "True\n"
     ]
    }
   ],
   "source": [
    "if __name__ == '__main__':\n",
    "    s = input()\n",
    "    print (any(c.isalnum() for c in s))\n",
    "    print (any(c.isalpha() for c in s))\n",
    "    print (any(c.isdigit() for c in s))\n",
    "    print (any(c.islower() for c in s))\n",
    "    print (any(c.isupper() for c in s))"
   ]
  },
  {
   "cell_type": "markdown",
   "id": "29ae711e-43af-4b34-860a-4241b51bf56e",
   "metadata": {},
   "source": [
    "### Text Alignment\n",
    "\n"
   ]
  },
  {
   "cell_type": "code",
   "execution_count": 33,
   "id": "79ab9fcd-10c0-4065-8b7d-14f1ae772282",
   "metadata": {},
   "outputs": [
    {
     "name": "stdin",
     "output_type": "stream",
     "text": [
      " 5\n"
     ]
    },
    {
     "name": "stdout",
     "output_type": "stream",
     "text": [
      "    H    \n",
      "   HHH   \n",
      "  HHHHH  \n",
      " HHHHHHH \n",
      "HHHHHHHHH\n",
      "  HHHHH               HHHHH             \n",
      "  HHHHH               HHHHH             \n",
      "  HHHHH               HHHHH             \n",
      "  HHHHH               HHHHH             \n",
      "  HHHHH               HHHHH             \n",
      "  HHHHH               HHHHH             \n",
      "  HHHHHHHHHHHHHHHHHHHHHHHHH   \n",
      "  HHHHHHHHHHHHHHHHHHHHHHHHH   \n",
      "  HHHHHHHHHHHHHHHHHHHHHHHHH   \n",
      "  HHHHH               HHHHH             \n",
      "  HHHHH               HHHHH             \n",
      "  HHHHH               HHHHH             \n",
      "  HHHHH               HHHHH             \n",
      "  HHHHH               HHHHH             \n",
      "  HHHHH               HHHHH             \n",
      "                    HHHHHHHHH \n",
      "                     HHHHHHH  \n",
      "                      HHHHH   \n",
      "                       HHH    \n",
      "                        H     \n"
     ]
    }
   ],
   "source": [
    "thickness = int(input()) #This must be an odd number\n",
    "c = 'H'\n",
    "\n",
    "#Top Cone\n",
    "for i in range(thickness):\n",
    "    print((c*i).rjust(thickness-1)+c+(c*i).ljust(thickness-1))\n",
    "\n",
    "#Top Pillars\n",
    "for i in range(thickness+1):\n",
    "    print((c*thickness).center(thickness*2)+(c*thickness).center(thickness*6))\n",
    "\n",
    "#Middle Belt\n",
    "for i in range((thickness+1)//2):\n",
    "    print((c*thickness*5).center(thickness*6))    \n",
    "\n",
    "#Bottom Pillars\n",
    "for i in range(thickness+1):\n",
    "    print((c*thickness).center(thickness*2)+(c*thickness).center(thickness*6))    \n",
    "\n",
    "#Bottom Cone\n",
    "for i in range(thickness):\n",
    "    print(((c*(thickness-i-1)).rjust(thickness)+c+(c*(thickness-i-1)).ljust(thickness)).rjust(thickness*6))"
   ]
  },
  {
   "cell_type": "markdown",
   "id": "3197354b-6705-4824-8440-fb95bc084700",
   "metadata": {},
   "source": [
    "### Text Wrap\n",
    "\n"
   ]
  },
  {
   "cell_type": "code",
   "execution_count": 34,
   "id": "43782f60-b84d-4407-8217-9e82cece6aee",
   "metadata": {},
   "outputs": [],
   "source": [
    "def wrap(string, max_width):\n",
    "    return (textwrap.fill(string, max_width))"
   ]
  },
  {
   "cell_type": "markdown",
   "id": "b63715b5-a473-4e40-b8dd-f1648130251c",
   "metadata": {},
   "source": [
    "### Designer Door Mat\n",
    "\n"
   ]
  },
  {
   "cell_type": "code",
   "execution_count": 35,
   "id": "2aa4404b-09d8-460f-a546-a75185300b16",
   "metadata": {},
   "outputs": [
    {
     "name": "stdin",
     "output_type": "stream",
     "text": [
      " 7 21\n"
     ]
    },
    {
     "name": "stdout",
     "output_type": "stream",
     "text": [
      "---------.|.---------\n",
      "------.|..|..|.------\n",
      "---.|..|..|..|..|.---\n",
      "-------WELCOME-------\n",
      "---.|..|..|..|..|.---\n",
      "------.|..|..|.------\n",
      "---------.|.---------\n"
     ]
    }
   ],
   "source": [
    "if __name__ == \"__main__\":\n",
    "    N, M = map(int, input().split())\n",
    "\n",
    "    stick = '.|.'\n",
    "\n",
    "    for i in range(1, N, 2): \n",
    "        sticks = stick * i\n",
    "        print(sticks.center(M, '-'))\n",
    "\n",
    "    print('WELCOME'.center(M, '-'))\n",
    "\n",
    "    for i in range(N - 2, -1, -2): \n",
    "        sticks = stick * i\n",
    "        print(sticks.center(M, '-'))"
   ]
  },
  {
   "cell_type": "markdown",
   "id": "4be0a520-c00f-472e-ad95-d8a54e893112",
   "metadata": {},
   "source": [
    "### String Formatting\n",
    "\n"
   ]
  },
  {
   "cell_type": "code",
   "execution_count": 36,
   "id": "1a112bc2-efcb-44af-b38e-3c9a3e502132",
   "metadata": {},
   "outputs": [],
   "source": [
    "def print_formatted(number):\n",
    "    width = len(\"{0:b}\".format(number))\n",
    "\n",
    "    for i in range(1, number + 1):\n",
    "        print(\"{0:{w}d} {0:{w}o} {0:{w}X} {0:{w}b}\".format(i, w = width))"
   ]
  },
  {
   "cell_type": "markdown",
   "id": "a251967b-1d82-4475-8ca3-9540a1b6de9d",
   "metadata": {},
   "source": [
    "### Alphabet Rangoli\n",
    "\n"
   ]
  },
  {
   "cell_type": "code",
   "execution_count": 37,
   "id": "cf7ea1ed-c4c8-4975-8c5c-0e56b7a2c03a",
   "metadata": {},
   "outputs": [],
   "source": [
    "def print_rangoli(size):\n",
    "    width  = size*4-3\n",
    "    string = ''\n",
    "\n",
    "    for i in range(1,size+1):\n",
    "        for j in range(0,i):\n",
    "            string += chr(96+size-j)\n",
    "            if len(string) < width :\n",
    "                string += '-'\n",
    "        for k in range(i-1,0,-1):    \n",
    "            string += chr(97+size-k)\n",
    "            if len(string) < width :\n",
    "                string += '-'\n",
    "        print(string.center(width,'-'))\n",
    "        string = ''\n",
    "\n",
    "    for i in range(size-1,0,-1):\n",
    "        string = ''\n",
    "        for j in range(0,i):\n",
    "            string += chr(96+size-j)\n",
    "            if len(string) < width :\n",
    "                string += '-'\n",
    "        for k in range(i-1,0,-1):\n",
    "            string += chr(97+size-k)\n",
    "            if len(string) < width :\n",
    "                string += '-'\n",
    "        print(string.center(width,'-'))"
   ]
  },
  {
   "cell_type": "markdown",
   "id": "940b2ce1-6342-4fd3-a7d4-4c9fabf2ef79",
   "metadata": {},
   "source": [
    "### Capitalize!\n",
    "\n"
   ]
  },
  {
   "cell_type": "code",
   "execution_count": 39,
   "id": "51571569-9d0c-491a-93db-665b9d017499",
   "metadata": {},
   "outputs": [],
   "source": [
    "def solve(s):\n",
    "    for i in s.split():\n",
    "        s = s.replace(i,i.capitalize())\n",
    "    return s"
   ]
  },
  {
   "cell_type": "markdown",
   "id": "76b590f6-615b-41eb-b56e-071a1142143c",
   "metadata": {},
   "source": [
    "### The Minion Game\n",
    "\n"
   ]
  },
  {
   "cell_type": "code",
   "execution_count": 40,
   "id": "db77858a-b76b-4fff-809e-918aabf41dde",
   "metadata": {},
   "outputs": [],
   "source": [
    "def minion_game(string):\n",
    "    vowels = {'A','E','I','O','U'}\n",
    "    kevin = 0\n",
    "    stuart = 0\n",
    "    for i in range(len(string)):\n",
    "        if string[i] in vowels:\n",
    "            kevin += len(string) - i\n",
    "        else:\n",
    "            stuart += len(string) - i\n",
    "\n",
    "    if kevin == stuart:\n",
    "        print(\"Draw\")\n",
    "    elif kevin > stuart:\n",
    "        print(\"Kevin \" + str(kevin))\n",
    "    else:\n",
    "        print(\"Stuart \" + str(stuart))"
   ]
  },
  {
   "cell_type": "markdown",
   "id": "2f56e927-5585-4df1-8709-2f3868c0d643",
   "metadata": {},
   "source": [
    "### Merge the Tools!\n",
    "\n"
   ]
  },
  {
   "cell_type": "code",
   "execution_count": 41,
   "id": "ed4039e3-aab2-40de-a81e-90bbb226c0a5",
   "metadata": {},
   "outputs": [],
   "source": [
    "def merge_the_tools(string, k):\n",
    "    for i in range(0,len(string), k):\n",
    "        line = string[i:i+k]\n",
    "        new = \"\"\n",
    "        for i in line:\n",
    "            if i not in new:\n",
    "                new+=i\n",
    "        print(new)"
   ]
  },
  {
   "cell_type": "markdown",
   "id": "8f285376-b437-49de-a709-b7b11f945b02",
   "metadata": {},
   "source": [
    "## Sets"
   ]
  },
  {
   "cell_type": "markdown",
   "id": "6f4a2a65-3e7c-47e6-bc4e-33a088ae717d",
   "metadata": {},
   "source": [
    "### Introduction to Sets\n",
    "\n"
   ]
  },
  {
   "cell_type": "code",
   "execution_count": 1,
   "id": "d4d1d040-8a69-448d-9fa7-081ed5375677",
   "metadata": {},
   "outputs": [],
   "source": [
    "def average(array):\n",
    "    b = set(array)\n",
    "    return sum(b)/len(b)"
   ]
  },
  {
   "cell_type": "markdown",
   "id": "846dfa54-17ec-458b-9f9a-48d9972c30e8",
   "metadata": {},
   "source": [
    "## No Idea!\n",
    "\n"
   ]
  },
  {
   "cell_type": "code",
   "execution_count": 2,
   "id": "49a46720-d458-44da-9d90-064850cbab9a",
   "metadata": {},
   "outputs": [
    {
     "name": "stdin",
     "output_type": "stream",
     "text": [
      " 3 2\n",
      " 1 5 3\n",
      " 3 1\n",
      " 5 7\n"
     ]
    },
    {
     "name": "stdout",
     "output_type": "stream",
     "text": [
      "1\n"
     ]
    }
   ],
   "source": [
    "if __name__ == \"__main__\":\n",
    "    n_m = input().split()\n",
    "    n_m = map(int, n_m)\n",
    "    n = map(int, input().split())\n",
    "    A = set(map(int, input().split()))\n",
    "    B = set(map(int, input().split()))\n",
    "\n",
    "    counter = 0\n",
    "    for i in n:\n",
    "        if i in A:\n",
    "            counter += 1\n",
    "        elif i in B:\n",
    "            counter -= 1\n",
    "\n",
    "    print (counter)"
   ]
  },
  {
   "cell_type": "markdown",
   "id": "ebcac907-4274-448b-a4b0-baa34f85aadd",
   "metadata": {},
   "source": [
    "### Symmetric Difference\n",
    "\n"
   ]
  },
  {
   "cell_type": "code",
   "execution_count": 3,
   "id": "99fad0c2-8536-4851-af68-037562af92df",
   "metadata": {},
   "outputs": [
    {
     "name": "stdin",
     "output_type": "stream",
     "text": [
      " 4\n",
      " 2 4 5 9\n",
      " 4\n",
      " 2 4 11 12\n"
     ]
    },
    {
     "name": "stdout",
     "output_type": "stream",
     "text": [
      "5\n",
      "9\n",
      "11\n",
      "12\n"
     ]
    }
   ],
   "source": [
    "if __name__ ==\"__main__\":\n",
    "    int(input())\n",
    "    N = input().split()\n",
    "    Nint = set(list(map(int, N)))\n",
    "    int(input())\n",
    "    M = input().split()\n",
    "    Mint = set(list(map(int, M)))\n",
    "    res = []\n",
    "    for i in list(Nint.difference(Mint)):\n",
    "        res.append(i)\n",
    "    for j in list(Mint.difference(Nint)):\n",
    "        res.append(j)\n",
    "    for k in sorted(res):\n",
    "        print (k)"
   ]
  },
  {
   "cell_type": "markdown",
   "id": "7deb3714-e920-4d9b-a8cc-18bfc31999cc",
   "metadata": {},
   "source": [
    "### Set .add()\n",
    "\n"
   ]
  },
  {
   "cell_type": "code",
   "execution_count": 4,
   "id": "8926c3e0-c2f6-4f81-91e9-6ee604b02796",
   "metadata": {},
   "outputs": [
    {
     "name": "stdin",
     "output_type": "stream",
     "text": [
      " 7\n",
      " UK\n",
      " China\n",
      " USA\n",
      " France\n",
      " New Zealand\n",
      " UK\n",
      " France\n"
     ]
    },
    {
     "name": "stdout",
     "output_type": "stream",
     "text": [
      "5\n"
     ]
    }
   ],
   "source": [
    "if __name__ == \"__main__\":\n",
    "    N = int(input())\n",
    "    s = set(input() for i in range(N))\n",
    "    print (len(s))"
   ]
  },
  {
   "cell_type": "markdown",
   "id": "72c91a9b-b462-4e04-9bc7-55947da815bd",
   "metadata": {},
   "source": [
    "### Set .discard(), .remove() & .pop()\n",
    "\n"
   ]
  },
  {
   "cell_type": "code",
   "execution_count": 5,
   "id": "14b61dd3-b0c5-4eb8-be70-4b1845b0c2f1",
   "metadata": {},
   "outputs": [
    {
     "name": "stdin",
     "output_type": "stream",
     "text": [
      " 9\n",
      " 1 2 3 4 5 6 7 8 9\n",
      " 10\n",
      " pop\n",
      " remove 9\n",
      " discard 9\n",
      " discard 8\n",
      " remove 7\n",
      " pop\n",
      " discard 6\n",
      " remove 5\n",
      " pop\n",
      " discard 5\n"
     ]
    },
    {
     "name": "stdout",
     "output_type": "stream",
     "text": [
      "4\n"
     ]
    }
   ],
   "source": [
    "if __name__ == \"__main__\":\n",
    "    n = int(input())\n",
    "    s = set(map(int,input().split()))\n",
    "    num = int(input())\n",
    "    for i in range(num):\n",
    "        ip = input().split()\n",
    "        if ip[0]==\"remove\":\n",
    "            s.remove(int(ip[1]))\n",
    "        elif ip[0]==\"discard\":\n",
    "            s.discard(int(ip[1]))\n",
    "        else :\n",
    "            s.pop()\n",
    "    print(sum(list(s)))"
   ]
  },
  {
   "cell_type": "markdown",
   "id": "a80fcd37-5b73-4eac-adf1-01f632419904",
   "metadata": {},
   "source": [
    "### Set .union() Operation\n",
    "\n"
   ]
  },
  {
   "cell_type": "code",
   "execution_count": 6,
   "id": "f0eb0e1d-6df6-4f79-a6ee-44a9e78b13ec",
   "metadata": {},
   "outputs": [
    {
     "name": "stdin",
     "output_type": "stream",
     "text": [
      " 9\n",
      " 1 2 3 4 5 6 7 8 9\n",
      " 9\n",
      " 10 1 2 3 11 21 55 6 8\n"
     ]
    },
    {
     "name": "stdout",
     "output_type": "stream",
     "text": [
      "13\n"
     ]
    }
   ],
   "source": [
    "if __name__ == \"__main__\":\n",
    "    e = input()\n",
    "    el = set(map(int,input().split()))\n",
    "    f = input()\n",
    "    fl = set(map(int,input().split()))\n",
    "    u = el.union(fl)\n",
    "    print (len(u))"
   ]
  },
  {
   "cell_type": "markdown",
   "id": "be2351a6-1560-498a-916d-5b050dab5ffa",
   "metadata": {},
   "source": [
    "### Set .intersection() Operation\n",
    "\n"
   ]
  },
  {
   "cell_type": "code",
   "execution_count": 7,
   "id": "7080fbc6-884b-4a46-a568-a01c69a94482",
   "metadata": {},
   "outputs": [
    {
     "name": "stdin",
     "output_type": "stream",
     "text": [
      " 9\n",
      " 1 2 3 4 5 6 7 8 9\n",
      " 9\n",
      " 10 1 2 3 11 21 55 6 8\n"
     ]
    },
    {
     "name": "stdout",
     "output_type": "stream",
     "text": [
      "5\n"
     ]
    }
   ],
   "source": [
    "if __name__ == \"__main__\":\n",
    "    eng_num = int(input())\n",
    "    eng_set = input().split()\n",
    "    eng_set = set(map(int, eng_set))\n",
    "    fren_num = int(input())\n",
    "    fren_set = input().split()\n",
    "    fren_set = set(map(int, fren_set))\n",
    "\n",
    "    print (len(eng_set.intersection(fren_set)))"
   ]
  },
  {
   "cell_type": "markdown",
   "id": "b1a79e6d-32c9-42f7-bc54-eeaa150058dd",
   "metadata": {},
   "source": [
    "### Set .difference() Operation\n",
    "\n"
   ]
  },
  {
   "cell_type": "code",
   "execution_count": 8,
   "id": "2ecb8892-584b-4aff-ba40-980a4977b096",
   "metadata": {},
   "outputs": [
    {
     "name": "stdin",
     "output_type": "stream",
     "text": [
      " 9\n",
      " 1 2 3 4 5 6 7 8 9\n",
      " 9\n",
      " 10 1 2 3 11 21 55 6 8\n"
     ]
    },
    {
     "name": "stdout",
     "output_type": "stream",
     "text": [
      "4\n"
     ]
    }
   ],
   "source": [
    "if __name__ ==\"__main__\":\n",
    "    eng_num = int(input())\n",
    "    eng_set = set(map(int, input().split()))\n",
    "    fren_num = int(input())\n",
    "    fren_set = set(map(int, input().split()))\n",
    "\n",
    "    print (len(eng_set.difference(fren_set)))"
   ]
  },
  {
   "cell_type": "markdown",
   "id": "437b7ee1-0f7c-475b-9f7c-5e586ac6ef19",
   "metadata": {},
   "source": [
    "### Set .symmetric_difference() Operation\n",
    "\n"
   ]
  },
  {
   "cell_type": "code",
   "execution_count": 9,
   "id": "a82ec7ba-2898-4721-9255-aa2358d5fd9f",
   "metadata": {},
   "outputs": [
    {
     "name": "stdin",
     "output_type": "stream",
     "text": [
      " 9\n",
      " 1 2 3 4 5 6 7 8 9\n",
      " 9\n",
      " 10 1 2 3 11 21 55 6 8\n"
     ]
    },
    {
     "name": "stdout",
     "output_type": "stream",
     "text": [
      "8\n"
     ]
    }
   ],
   "source": [
    "if __name__ == \"__main__\":\n",
    "    a = int(input())\n",
    "    b = input().split()\n",
    "    b = list(map(int, b))\n",
    "    c = int(input())\n",
    "    d = input().split()\n",
    "    d = list(map(int, d))\n",
    "\n",
    "    print (len(set(b).symmetric_difference(set(d))))"
   ]
  },
  {
   "cell_type": "markdown",
   "id": "e70254e8-257c-4e63-acd5-8a10452e7eb8",
   "metadata": {},
   "source": [
    "### Set Mutations\n",
    "\n"
   ]
  },
  {
   "cell_type": "code",
   "execution_count": 10,
   "id": "c676c197-c957-4d02-bbca-3dc65e9d6e42",
   "metadata": {},
   "outputs": [
    {
     "name": "stdin",
     "output_type": "stream",
     "text": [
      " 16\n",
      " 1 2 3 4 5 6 7 8 9 10 11 12 13 14 24 52\n",
      " 4\n",
      " intersection_update 10\n",
      " 2 3 5 6 8 9 1 4 7 11\n",
      " update 2\n",
      " 55 66\n",
      " symmetric_difference_update 5\n",
      " 22 7 35 62 58\n",
      " difference_update 7\n",
      " 11 22 35 55 58 62 66\n"
     ]
    },
    {
     "name": "stdout",
     "output_type": "stream",
     "text": [
      "38\n"
     ]
    }
   ],
   "source": [
    "if __name__ == \"__main__\":\n",
    "    a = int(input())\n",
    "    A = set(map(int, input().split()))\n",
    "    for i in range(int(input())):\n",
    "        s, b = input().split()\n",
    "        if s == 'intersection_update':\n",
    "            A &= set(map(int, input().split()))\n",
    "        elif s == 'update':\n",
    "            A |= set(map(int, input().split()))\n",
    "        elif s == 'symmetric_difference_update':\n",
    "            A ^= set(map(int, input().split()))\n",
    "        else:\n",
    "            A -= set(map(int, input().split()))\n",
    "    print (sum(A) )"
   ]
  },
  {
   "cell_type": "markdown",
   "id": "96852b3c-c9d8-4a9d-9c92-39c8d916e14c",
   "metadata": {},
   "source": [
    "### The Captain's Room\n",
    "\n"
   ]
  },
  {
   "cell_type": "code",
   "execution_count": 11,
   "id": "daabd995-a5cf-483a-9748-ba74d9c9400f",
   "metadata": {},
   "outputs": [
    {
     "name": "stdin",
     "output_type": "stream",
     "text": [
      " 5\n",
      " 1 2 3 6 5 4 4 2 5 3 6 1 6 5 3 2 4 1 2 5 1 4 3 6 8 4 3 1 5 6 2\n"
     ]
    },
    {
     "name": "stdout",
     "output_type": "stream",
     "text": [
      "8\n"
     ]
    }
   ],
   "source": [
    "from collections import Counter\n",
    "\n",
    "if __name__ == \"__main__\":\n",
    "    n = input()\n",
    "    b = input().split()\n",
    "\n",
    "    k = Counter(b)\n",
    "\n",
    "    d = dict(k)\n",
    "\n",
    "    print (min(d, key=lambda k: d[k]))"
   ]
  },
  {
   "cell_type": "markdown",
   "id": "485a085c-3424-4ab8-b1c2-f386b8c6ee4a",
   "metadata": {},
   "source": [
    "### Check Subset\n",
    "\n"
   ]
  },
  {
   "cell_type": "code",
   "execution_count": 12,
   "id": "be34f321-0908-4922-924f-d239e5a71d64",
   "metadata": {},
   "outputs": [
    {
     "name": "stdin",
     "output_type": "stream",
     "text": [
      " 3\n",
      " 5\n",
      " 1 2 3 5 6\n",
      " 9\n",
      " 9 8 5 6 3 2 1 4 7\n"
     ]
    },
    {
     "name": "stdout",
     "output_type": "stream",
     "text": [
      "True\n"
     ]
    },
    {
     "name": "stdin",
     "output_type": "stream",
     "text": [
      " 1\n",
      " 2\n",
      " 5\n",
      " 3 6 5 4 1\n"
     ]
    },
    {
     "name": "stdout",
     "output_type": "stream",
     "text": [
      "False\n"
     ]
    },
    {
     "name": "stdin",
     "output_type": "stream",
     "text": [
      " 7\n",
      " 1 2 3 5 6 8 9\n",
      " 3\n",
      " 9 8 2\n"
     ]
    },
    {
     "name": "stdout",
     "output_type": "stream",
     "text": [
      "False\n"
     ]
    }
   ],
   "source": [
    "if __name__ == \"__main__\":\n",
    "    for i in range(int(input())): \n",
    "        a = int(input())\n",
    "        A = set(input().split()) \n",
    "        b = int(input())\n",
    "        B = set(input().split())\n",
    "        print(A <= B)"
   ]
  },
  {
   "cell_type": "markdown",
   "id": "e8be2aea-4f2b-40a1-8141-696e226f5c63",
   "metadata": {},
   "source": [
    "### Check Strict Superset\n",
    "\n"
   ]
  },
  {
   "cell_type": "code",
   "execution_count": 13,
   "id": "742b1faa-ca47-4792-b3a1-da697e781402",
   "metadata": {},
   "outputs": [
    {
     "name": "stdin",
     "output_type": "stream",
     "text": [
      " 1 2 3 4 5 6 7 8 9 10 11 12 23 45 84 78\n",
      " 2\n",
      " 1 2 3 4 5\n",
      " 100 11 12\n"
     ]
    },
    {
     "name": "stdout",
     "output_type": "stream",
     "text": [
      "False\n"
     ]
    }
   ],
   "source": [
    "if __name__ == \"__main__\":\n",
    "    storage = set(input().split())\n",
    "    N = int(input())\n",
    "    output = True\n",
    "\n",
    "    for i in range(N):\n",
    "        storage2 = set(input().split())\n",
    "        if not storage2.issubset(storage):\n",
    "            output = False\n",
    "        if len(storage2) >= len(storage):\n",
    "            output = False\n",
    "\n",
    "    print(output)"
   ]
  },
  {
   "cell_type": "markdown",
   "id": "44c2ab67-9efe-4fba-8281-9d3bea8eb0e4",
   "metadata": {},
   "source": [
    "## Collections"
   ]
  },
  {
   "cell_type": "markdown",
   "id": "7c6e6a14-25ea-4321-8f79-3db75b24f609",
   "metadata": {},
   "source": [
    "### collections.Counter()\n",
    "\n"
   ]
  },
  {
   "cell_type": "code",
   "execution_count": 14,
   "id": "79df801f-17e6-4265-bb71-e162c3e61d8f",
   "metadata": {},
   "outputs": [
    {
     "name": "stdin",
     "output_type": "stream",
     "text": [
      " 10\n",
      " 2 3 4 5 6 8 7 6 5 18\n",
      " 6\n",
      " 6 55\n",
      " 6 45\n",
      " 6 55\n",
      " 4 40\n",
      " 18 60\n",
      " 10 50\n"
     ]
    },
    {
     "name": "stdout",
     "output_type": "stream",
     "text": [
      "200\n"
     ]
    }
   ],
   "source": [
    "if __name__ == \"__main__\":\n",
    "    from collections import Counter\n",
    "    X = int(input())\n",
    "    N = map(int,input().split())\n",
    "    x = int(input())\n",
    "    L = map(tuple,(map(int,input().split()) for _ in range(x)))\n",
    "    n = Counter(N)\n",
    "    p =0\n",
    "    for i in L:\n",
    "        if i[0] in n.keys() and n[i[0]] >0 :\n",
    "            n[i[0]] = n[i[0]]-1\n",
    "            p = p+i[1]\n",
    "          \n",
    "    print(p)"
   ]
  },
  {
   "cell_type": "markdown",
   "id": "0312f9ce-0e05-49bf-9e84-b3c30075fa8f",
   "metadata": {},
   "source": [
    "## DefaultDict Tutorial\n",
    "\n"
   ]
  },
  {
   "cell_type": "code",
   "execution_count": 15,
   "id": "333c847d-f1cb-4b67-9ca4-860560ff5fe9",
   "metadata": {},
   "outputs": [
    {
     "name": "stdin",
     "output_type": "stream",
     "text": [
      " 5 2\n",
      " a\n",
      " a\n",
      " b\n",
      " a\n",
      " b\n",
      " a\n"
     ]
    },
    {
     "name": "stdout",
     "output_type": "stream",
     "text": [
      "1 2 4\n"
     ]
    },
    {
     "name": "stdin",
     "output_type": "stream",
     "text": [
      " b\n"
     ]
    },
    {
     "name": "stdout",
     "output_type": "stream",
     "text": [
      "3 5\n"
     ]
    }
   ],
   "source": [
    "from collections import defaultdict\n",
    "\n",
    "\n",
    "if __name__ == \"__main__\":\n",
    "    d = defaultdict(list)\n",
    "    n, m = map(int, input().split())\n",
    "\n",
    "    for i in range(n):\n",
    "        d[input()].append(str(i + 1))\n",
    "    for j in range(m):\n",
    "        print(' '.join(d[input()]) or -1)"
   ]
  },
  {
   "cell_type": "markdown",
   "id": "aea71674-ef36-4751-99bd-6eab757f43c0",
   "metadata": {},
   "source": [
    "## Collections.namedtuple()\n",
    "\n"
   ]
  },
  {
   "cell_type": "code",
   "execution_count": 16,
   "id": "fbf2955e-f6f9-481b-8514-e8d01346aad7",
   "metadata": {},
   "outputs": [
    {
     "name": "stdin",
     "output_type": "stream",
     "text": [
      " 5\n",
      " ID         MARKS      NAME       CLASS\n",
      " 1          97         Raymond    7\n",
      " 2          50         Steven     4\n",
      " 3          91         Adrian     9\n",
      " 4          72         Stewart    5\n",
      " 5          80         Peter      6\n"
     ]
    },
    {
     "name": "stdout",
     "output_type": "stream",
     "text": [
      "78.00\n"
     ]
    }
   ],
   "source": [
    "from collections import namedtuple\n",
    "\n",
    "if __name__ == \"__main__\":\n",
    "    n = int(input())\n",
    "    fields = input().split()\n",
    "\n",
    "    total_marks = 0\n",
    "    for _ in range(n):\n",
    "        students = namedtuple('student', fields)\n",
    "        MARKS, CLASS, NAME, ID = input().split()\n",
    "        student = students(MARKS, CLASS, NAME, ID)\n",
    "        total_marks += int(student.MARKS)\n",
    "    print('{:.2f}'.format(total_marks / n))"
   ]
  },
  {
   "cell_type": "markdown",
   "id": "3d292645-7a01-4486-8775-c8f969d22609",
   "metadata": {},
   "source": [
    "### Collections.OrderedDict()\n",
    "\n"
   ]
  },
  {
   "cell_type": "code",
   "execution_count": 17,
   "id": "941f81c1-2291-4a9b-8ff3-e317fdb5934f",
   "metadata": {},
   "outputs": [
    {
     "name": "stdin",
     "output_type": "stream",
     "text": [
      " 9\n",
      " BANANA FRIES 12\n",
      " POTATO CHIPS 30\n",
      " APPLE JUICE 10\n",
      " CANDY 5\n",
      " APPLE JUICE 10\n",
      " CANDY 5\n",
      " CANDY 5\n",
      " CANDY 5\n",
      " POTATO CHIPS 30\n"
     ]
    },
    {
     "name": "stdout",
     "output_type": "stream",
     "text": [
      "BANANA FRIES 12\n",
      "POTATO CHIPS 60\n",
      "APPLE JUICE 20\n",
      "CANDY 20\n"
     ]
    }
   ],
   "source": [
    "from collections import *\n",
    "\n",
    "if __name__ == \"__main__\":\n",
    "    N = int(input());\n",
    "    d = OrderedDict();\n",
    "    for i in range(N):\n",
    "        item = input().split()\n",
    "        itemPrice = int(item[-1])\n",
    "        itemName = \" \".join(item[:-1])\n",
    "        if(d.get(itemName)):\n",
    "            d[itemName] += itemPrice\n",
    "        else:\n",
    "            d[itemName] = itemPrice\n",
    "    for i in d.keys():\n",
    "        print(i, d[i])"
   ]
  },
  {
   "cell_type": "markdown",
   "id": "2cf4c060-d375-4c90-9364-ee3262165ffa",
   "metadata": {},
   "source": [
    "### Word Order\n",
    "\n"
   ]
  },
  {
   "cell_type": "code",
   "execution_count": 18,
   "id": "5ca7b4c4-d135-4df9-b6c3-d73b5bf92d15",
   "metadata": {},
   "outputs": [
    {
     "name": "stdin",
     "output_type": "stream",
     "text": [
      " 4\n",
      " bcdef\n",
      " abcdefg\n",
      " bcde\n",
      " bcdef\n"
     ]
    },
    {
     "name": "stdout",
     "output_type": "stream",
     "text": [
      "3\n",
      "2 1 1 "
     ]
    }
   ],
   "source": [
    "import collections;\n",
    "\n",
    "if __name__ == \"__main__\":\n",
    "    N = int(input())\n",
    "    d = collections.OrderedDict()\n",
    "\n",
    "    for i in range(N):\n",
    "        word = input()\n",
    "        if word in d:\n",
    "            d[word] +=1\n",
    "        else:\n",
    "            d[word] = 1\n",
    "\n",
    "    print(len(d));\n",
    "\n",
    "    for k,v in d.items():\n",
    "        print(v,end = \" \")"
   ]
  },
  {
   "cell_type": "markdown",
   "id": "9e7ca1ba-43e8-4102-bd04-37c70ace1e56",
   "metadata": {},
   "source": [
    "### Collections.deque()\n",
    "\n"
   ]
  },
  {
   "cell_type": "code",
   "execution_count": 19,
   "id": "0d3555ba-75d3-4c7a-b965-b72fc1529a97",
   "metadata": {},
   "outputs": [
    {
     "name": "stdin",
     "output_type": "stream",
     "text": [
      " 6\n",
      " append 1\n",
      " append 2\n",
      " append 3\n",
      " appendleft 4\n",
      " pop\n",
      " popleft\n"
     ]
    },
    {
     "name": "stdout",
     "output_type": "stream",
     "text": [
      "1 2\n"
     ]
    }
   ],
   "source": [
    "from collections import deque\n",
    "\n",
    "if __name__ == \"__main__\":\n",
    "    d = deque()\n",
    "    actions = {\n",
    "        \"append\":d.append, \n",
    "        \"appendleft\": d.appendleft,\n",
    "        \"pop\": d.pop,\n",
    "        \"popleft\": d.popleft\n",
    "    }\n",
    "    for i in range(int(input())):\n",
    "        action = input().split()\n",
    "        if len(action)>1:\n",
    "            x,y = action\n",
    "            actions[x](int(y))\n",
    "        else:\n",
    "            actions[action[0]]()\n",
    "    print(*d)"
   ]
  },
  {
   "cell_type": "markdown",
   "id": "0117207d-e420-4d81-9883-02292acab11d",
   "metadata": {},
   "source": [
    "### Company Logo\n",
    "\n"
   ]
  },
  {
   "cell_type": "code",
   "execution_count": 20,
   "id": "7ce04c98-da01-44e6-913d-defc7b6382e9",
   "metadata": {},
   "outputs": [
    {
     "name": "stdin",
     "output_type": "stream",
     "text": [
      " aabbbccde\n"
     ]
    },
    {
     "name": "stdout",
     "output_type": "stream",
     "text": [
      "b 3\n",
      "a 2\n",
      "c 2\n"
     ]
    }
   ],
   "source": [
    "#!/bin/python3\n",
    "\n",
    "import math\n",
    "import os\n",
    "import random\n",
    "import re\n",
    "import sys\n",
    "import collections\n",
    "\n",
    "\n",
    "\n",
    "if __name__ == '__main__':\n",
    "    s = sorted(input().strip())\n",
    "    s_counter = collections.Counter(s).most_common()\n",
    "    s_counter = sorted(s_counter, key=lambda x: (x[1] * -1, x[0]))\n",
    "    for i in range(0, 3):\n",
    "        print(s_counter[i][0], s_counter[i][1])"
   ]
  },
  {
   "cell_type": "markdown",
   "id": "9ee4f8ab-f425-41a5-aeb6-871deef0199f",
   "metadata": {},
   "source": [
    "### Piling Up!\n",
    "\n"
   ]
  },
  {
   "cell_type": "code",
   "execution_count": 21,
   "id": "c251a7fd-a580-4b4d-82c4-cce4c3a38c81",
   "metadata": {},
   "outputs": [
    {
     "name": "stdin",
     "output_type": "stream",
     "text": [
      " 2\n",
      " 6\n",
      " 4 3 2 1 3 4\n"
     ]
    },
    {
     "name": "stdout",
     "output_type": "stream",
     "text": [
      "Yes\n"
     ]
    },
    {
     "name": "stdin",
     "output_type": "stream",
     "text": [
      " 3\n",
      " 1 3 2\n"
     ]
    },
    {
     "name": "stdout",
     "output_type": "stream",
     "text": [
      "No\n"
     ]
    }
   ],
   "source": [
    "from collections import deque\n",
    "\n",
    "if __name__ == \"__main__\":\n",
    "    N = int(input())\n",
    "\n",
    "    for _ in range(N):\n",
    "        flag = True\n",
    "        input()\n",
    "        d = deque(map(int, input().strip().split()))\n",
    "        if(d[0] >= d[-1]):\n",
    "            max = d.popleft()\n",
    "        else:\n",
    "            max = d.pop()\n",
    "        while d:\n",
    "            if(len(d)==1):\n",
    "                if(d[0] <= max):\n",
    "                    break\n",
    "                else:\n",
    "                    flag = False\n",
    "                    break\n",
    "            else:\n",
    "                if(d[0]<=max and d[-1]<=max):\n",
    "                    if(d[0]>=d[-1]):\n",
    "                        max = d.popleft()\n",
    "                    else:\n",
    "                        max = d.pop()\n",
    "                elif(d[0]<=max):\n",
    "                    max = d.popleft()\n",
    "                elif(d[-1]<=max):\n",
    "                    max = d.pop()\n",
    "                else:\n",
    "                    flag = False\n",
    "                    break\n",
    "        if flag:\n",
    "            print(\"Yes\")\n",
    "        else:\n",
    "            print(\"No\")"
   ]
  },
  {
   "cell_type": "markdown",
   "id": "8fd3d1de-7060-4fa0-9ff3-152c752525a2",
   "metadata": {},
   "source": [
    "## Date and Time"
   ]
  },
  {
   "cell_type": "markdown",
   "id": "01f87e98-8ead-42a1-88c1-eda740d1385c",
   "metadata": {},
   "source": [
    "### Calendar Module\n",
    "\n"
   ]
  },
  {
   "cell_type": "code",
   "execution_count": 22,
   "id": "62e59cec-c25c-401b-9e89-fe90b545a89b",
   "metadata": {},
   "outputs": [
    {
     "name": "stdin",
     "output_type": "stream",
     "text": [
      " 08 05 2015\n"
     ]
    },
    {
     "name": "stdout",
     "output_type": "stream",
     "text": [
      "WEDNESDAY\n"
     ]
    }
   ],
   "source": [
    "import datetime\n",
    "import calendar\n",
    "\n",
    "if __name__ == \"__main__\":\n",
    "    m, d, y = map(int, input().split())\n",
    "    input_date = datetime.date(y, m, d)\n",
    "    print(calendar.day_name[input_date.weekday()].upper())"
   ]
  },
  {
   "cell_type": "markdown",
   "id": "bf0feb2f-4f2d-45b5-8a48-c510beb8a364",
   "metadata": {},
   "source": [
    "### Time Delta\n",
    "\n"
   ]
  },
  {
   "cell_type": "code",
   "execution_count": null,
   "id": "ed0ef063-8108-46a9-8090-b7186901d200",
   "metadata": {},
   "outputs": [],
   "source": [
    "#!/bin/python3\n",
    "# -*- coding: utf-8 -*-\n",
    "import math\n",
    "import os\n",
    "import random\n",
    "import re\n",
    "import sys\n",
    "from datetime import datetime\n",
    "\n",
    "def time_delta(t1, t2):\n",
    "    time_format = '%a %d %b %Y %H:%M:%S %z'\n",
    "    t1 = datetime.strptime(t1, time_format)\n",
    "    t2 = datetime.strptime(t2, time_format)\n",
    "    return str(int(abs((t1-t2).total_seconds())))\n",
    "\n",
    "if __name__ == '__main__':\n",
    "    fptr = open(os.environ['OUTPUT_PATH'], 'w')\n",
    "\n",
    "    t = int(input())\n",
    "\n",
    "    for t_itr in range(t):\n",
    "        t1 = input()\n",
    "\n",
    "        t2 = input()\n",
    "\n",
    "        delta = time_delta(t1, t2)\n",
    "\n",
    "        fptr.write(delta + '\\n')\n",
    "    \n",
    "    fptr.close()"
   ]
  },
  {
   "cell_type": "markdown",
   "id": "f92a64b5-8e0b-4324-bd09-fdd8d7dd135d",
   "metadata": {},
   "source": [
    "## Exceptions"
   ]
  },
  {
   "cell_type": "code",
   "execution_count": 9,
   "id": "b612804d-1e0e-4443-9051-0380c27db385",
   "metadata": {},
   "outputs": [
    {
     "name": "stdin",
     "output_type": "stream",
     "text": [
      " 3\n",
      " 1 0\n"
     ]
    },
    {
     "name": "stdout",
     "output_type": "stream",
     "text": [
      "Error Code: integer division or modulo by zero\n"
     ]
    },
    {
     "name": "stdin",
     "output_type": "stream",
     "text": [
      " 2 $\n"
     ]
    },
    {
     "name": "stdout",
     "output_type": "stream",
     "text": [
      "Error Code: invalid literal for int() with base 10: '$'\n"
     ]
    },
    {
     "name": "stdin",
     "output_type": "stream",
     "text": [
      " 3 1\n"
     ]
    },
    {
     "name": "stdout",
     "output_type": "stream",
     "text": [
      "3\n"
     ]
    }
   ],
   "source": [
    "if __name__ ==  \"__main__\":\n",
    "    for i in range(int(input())):\n",
    "        try:\n",
    "            a,b = list(map(int, input().split()))\n",
    "            print(a//b)\n",
    "        except ZeroDivisionError as e:\n",
    "            print('Error Code:',e)\n",
    "        except ValueError as e:\n",
    "            print('Error Code:',e)"
   ]
  },
  {
   "cell_type": "markdown",
   "id": "79d43589-c7f2-4423-99f0-b64a28b376ac",
   "metadata": {},
   "source": [
    "## Built-ins"
   ]
  },
  {
   "cell_type": "markdown",
   "id": "d9850daa-3726-4ec2-b99b-7f9445b71b6c",
   "metadata": {},
   "source": [
    "### Zipped!"
   ]
  },
  {
   "cell_type": "code",
   "execution_count": 10,
   "id": "3e7d50e2-350c-4384-8f03-037f24704a29",
   "metadata": {},
   "outputs": [
    {
     "name": "stdin",
     "output_type": "stream",
     "text": [
      " 5 3\n",
      " 89 90 78 93 80\n",
      " 90 91 85 88 86\n",
      " 91 92 83 89 90.5\n"
     ]
    },
    {
     "name": "stdout",
     "output_type": "stream",
     "text": [
      "90.0\n",
      "91.0\n",
      "82.0\n",
      "90.0\n",
      "85.5\n"
     ]
    }
   ],
   "source": [
    "if __name__ == \"__main__\":\n",
    "    N, X = input().split()\n",
    "    out = list()\n",
    "    for i in range(int(X)):\n",
    "        ip = map(float, input().split())\n",
    "        out.append(ip)\n",
    "    for i in zip(*out): \n",
    "        print(sum(i)/len(i)) "
   ]
  },
  {
   "cell_type": "markdown",
   "id": "7a74a28e-cf2e-4d48-b686-d30aeae65e9d",
   "metadata": {},
   "source": [
    "## Map and Lambda Function\n",
    "\n",
    "\n",
    "\n"
   ]
  },
  {
   "cell_type": "code",
   "execution_count": 11,
   "id": "9fbbe64f-d270-4b14-a0fa-55e2ba145b7b",
   "metadata": {},
   "outputs": [],
   "source": [
    "cube = lambda x:x**3\n",
    "    \n",
    "def fibonacci(n):\n",
    "    if n<2:\n",
    "        return range(n)\n",
    "    init = [0,1]\n",
    "    for i in range(0,n-2):\n",
    "        add =init[i+1]+init[i]\n",
    "        init.append(add)\n",
    "    return(init)"
   ]
  },
  {
   "cell_type": "markdown",
   "id": "d83c986c-828f-4f53-a596-c1890acc3baf",
   "metadata": {},
   "source": [
    "## Regex and Parsing"
   ]
  },
  {
   "cell_type": "markdown",
   "id": "27484689-0dc5-4416-9226-c0777f7599ea",
   "metadata": {},
   "source": [
    "### Detect Floating Point Number\n",
    "\n"
   ]
  },
  {
   "cell_type": "code",
   "execution_count": 12,
   "id": "ce45eea6-d535-4243-bdb9-233b6176f412",
   "metadata": {},
   "outputs": [
    {
     "name": "stdin",
     "output_type": "stream",
     "text": [
      " 4\n",
      " 4.0O0\n"
     ]
    },
    {
     "name": "stdout",
     "output_type": "stream",
     "text": [
      "False\n"
     ]
    },
    {
     "name": "stdin",
     "output_type": "stream",
     "text": [
      " -1.00\n"
     ]
    },
    {
     "name": "stdout",
     "output_type": "stream",
     "text": [
      "True\n"
     ]
    },
    {
     "name": "stdin",
     "output_type": "stream",
     "text": [
      " +4.54\n"
     ]
    },
    {
     "name": "stdout",
     "output_type": "stream",
     "text": [
      "True\n"
     ]
    },
    {
     "name": "stdin",
     "output_type": "stream",
     "text": [
      " SomeRandomStuff\n"
     ]
    },
    {
     "name": "stdout",
     "output_type": "stream",
     "text": [
      "False\n"
     ]
    }
   ],
   "source": [
    "from re import match, compile\n",
    "\n",
    "pattern = compile('^[-+]?[0-9]*\\.[0-9]+$')\n",
    "for _ in range(int(input())):\n",
    "    print(bool(pattern.match(input())))"
   ]
  },
  {
   "cell_type": "markdown",
   "id": "9d315da2-6c1f-434e-80e7-cee395008a02",
   "metadata": {},
   "source": [
    "### Re.split()\n",
    "\n"
   ]
  },
  {
   "cell_type": "code",
   "execution_count": 14,
   "id": "d9c7f833-5ae4-4fb4-be48-e26947c5143e",
   "metadata": {},
   "outputs": [],
   "source": [
    "regex_pattern = r\"[.,]+\""
   ]
  },
  {
   "cell_type": "markdown",
   "id": "4b2c74e3-2d61-40a2-9993-2deaa677ccef",
   "metadata": {},
   "source": [
    "### Group(), Groups() & Groupdict()\n",
    "\n"
   ]
  },
  {
   "cell_type": "code",
   "execution_count": 15,
   "id": "4b82ff7f-f0bb-4207-949c-b88b4cead4d9",
   "metadata": {},
   "outputs": [
    {
     "name": "stdin",
     "output_type": "stream",
     "text": [
      " 12345678910111213141516171820212223\n"
     ]
    },
    {
     "name": "stdout",
     "output_type": "stream",
     "text": [
      "1\n"
     ]
    }
   ],
   "source": [
    "import re\n",
    "m = re.search(r'([A-Za-z0-9])\\1+',input())\n",
    "if m:\n",
    "    print (m.group(1))\n",
    "else:\n",
    "    print (-1)"
   ]
  },
  {
   "cell_type": "markdown",
   "id": "7777450f-1761-428a-9438-e3d0ab958186",
   "metadata": {},
   "source": [
    "### Re.findall() & Re.finditer()\n",
    "\n"
   ]
  },
  {
   "cell_type": "code",
   "execution_count": 16,
   "id": "6a04d55f-77dd-4b78-8600-b9fd1a0930e3",
   "metadata": {},
   "outputs": [
    {
     "name": "stdin",
     "output_type": "stream",
     "text": [
      " rabcdeefgyYhFjkIoomnpOeorteeeeet\n"
     ]
    },
    {
     "name": "stdout",
     "output_type": "stream",
     "text": [
      "ee\n",
      "Ioo\n",
      "Oeo\n",
      "eeeee\n"
     ]
    }
   ],
   "source": [
    "import re\n",
    "consonants = 'qwrtypsdfghjklzxcvbnm'\n",
    "vowels = 'aeiou'\n",
    "match = re.findall(r'(?<=['+consonants+'])(['+vowels+']{2,})(?=['+consonants+'])',input(),flags = re.I)\n",
    "if match:\n",
    "    for i in match:\n",
    "        print (i)\n",
    "else:\n",
    "    print (-1)"
   ]
  },
  {
   "cell_type": "markdown",
   "id": "544b55a2-712e-403e-9017-dd3710a10e0b",
   "metadata": {},
   "source": [
    "### Re.start() & Re.end()\n",
    "\n"
   ]
  },
  {
   "cell_type": "code",
   "execution_count": null,
   "id": "4a6a8d19-52aa-4cd5-bb91-e35c65d314a2",
   "metadata": {},
   "outputs": [],
   "source": [
    "#!/bin/python3\n",
    "import re\n",
    "from collections import OrderedDict\n",
    "od = OrderedDict()\n",
    "S = input().strip()\n",
    "k = input().strip()\n",
    "i = 0\n",
    "l = list()\n",
    "if re.search(k,S) == None:\n",
    "    print (-1,-1)\n",
    "else :\n",
    "    while i<len(S):\n",
    "        m = re.search(k,S[i:])\n",
    "        if m == None:\n",
    "            break;\n",
    "        else:\n",
    "            p = i+m.start()\n",
    "            n = (p,p+len(k)-1)\n",
    "            od[i] = n\n",
    "        i = i+1\n",
    "\n",
    "    for p,s in enumerate(od.values()):\n",
    "        if od.values()[p] != od.values()[p-1]:\n",
    "            print (s)"
   ]
  },
  {
   "cell_type": "markdown",
   "id": "e13821c1-5309-4da6-9165-f3e7de6a3a57",
   "metadata": {},
   "source": [
    "### Regex Substitution\n",
    "\n"
   ]
  },
  {
   "cell_type": "code",
   "execution_count": 4,
   "id": "d1b1ae28-d38d-46fe-b9c4-d71a21afae17",
   "metadata": {},
   "outputs": [
    {
     "name": "stdin",
     "output_type": "stream",
     "text": [
      " 11\n",
      " a = 1;\n"
     ]
    },
    {
     "name": "stdout",
     "output_type": "stream",
     "text": [
      "a = 1;\n"
     ]
    },
    {
     "name": "stdin",
     "output_type": "stream",
     "text": [
      " b = input();\n"
     ]
    },
    {
     "name": "stdout",
     "output_type": "stream",
     "text": [
      "b = input();\n"
     ]
    },
    {
     "name": "stdin",
     "output_type": "stream",
     "text": [
      " \n"
     ]
    },
    {
     "name": "stdout",
     "output_type": "stream",
     "text": [
      "\n"
     ]
    },
    {
     "name": "stdin",
     "output_type": "stream",
     "text": [
      " if a + b > 0 && a - b < 0:\n"
     ]
    },
    {
     "name": "stdout",
     "output_type": "stream",
     "text": [
      "if a + b > 0 and a - b < 0:\n"
     ]
    },
    {
     "name": "stdin",
     "output_type": "stream",
     "text": [
      "     start()\n"
     ]
    },
    {
     "name": "stdout",
     "output_type": "stream",
     "text": [
      "    start()\n"
     ]
    },
    {
     "name": "stdin",
     "output_type": "stream",
     "text": [
      " elif a*b > 10 || a/b < 1:\n"
     ]
    },
    {
     "name": "stdout",
     "output_type": "stream",
     "text": [
      "elif a*b > 10 or a/b < 1:\n"
     ]
    },
    {
     "name": "stdin",
     "output_type": "stream",
     "text": [
      "     stop()\n"
     ]
    },
    {
     "name": "stdout",
     "output_type": "stream",
     "text": [
      "    stop()\n"
     ]
    },
    {
     "name": "stdin",
     "output_type": "stream",
     "text": [
      " print set(list(a)) | set(list(b))\n"
     ]
    },
    {
     "name": "stdout",
     "output_type": "stream",
     "text": [
      "print set(list(a)) | set(list(b))\n"
     ]
    },
    {
     "name": "stdin",
     "output_type": "stream",
     "text": [
      " #Note do not change &&& or ||| or & or |\n"
     ]
    },
    {
     "name": "stdout",
     "output_type": "stream",
     "text": [
      "#Note do not change &&& or ||| or & or |\n"
     ]
    },
    {
     "name": "stdin",
     "output_type": "stream",
     "text": [
      " #Only change those '&&' which have space on both sides.\n"
     ]
    },
    {
     "name": "stdout",
     "output_type": "stream",
     "text": [
      "#Only change those '&&' which have space on both sides.\n"
     ]
    },
    {
     "name": "stdin",
     "output_type": "stream",
     "text": [
      " #Only change those '|| which have space on both sides.\n"
     ]
    },
    {
     "name": "stdout",
     "output_type": "stream",
     "text": [
      "#Only change those '|| which have space on both sides.\n"
     ]
    }
   ],
   "source": [
    "import re\n",
    "\n",
    "for i in range(int(input())):\n",
    "    print(re.sub(r'(?<= )(&&|\\|\\|)(?= )', lambda x: 'and' if x.group() == '&&' else 'or', input()))"
   ]
  },
  {
   "cell_type": "markdown",
   "id": "90ea6f04-9280-425f-9083-25876a8de98b",
   "metadata": {},
   "source": [
    "### Validating Roman Numerals\n",
    "\n"
   ]
  },
  {
   "cell_type": "code",
   "execution_count": 1,
   "id": "663b9c8c-770a-415c-ae72-950dfd6e1eae",
   "metadata": {},
   "outputs": [],
   "source": [
    "regex_pattern = r\"^(?=[MDCLXVI])M{0,3}(CM|CD|D?C{0,3})(XC|XL|L?X{0,3})(IX|IV|V?I{0,3})$\"\t# Do not delete 'r'.\n"
   ]
  },
  {
   "cell_type": "markdown",
   "id": "a37f5671-c3e6-4981-a192-0d1ec1c33534",
   "metadata": {},
   "source": [
    "### Validating phone numbers\n",
    "\n"
   ]
  },
  {
   "cell_type": "code",
   "execution_count": null,
   "id": "68bd5785-77ec-4e59-8cd4-5dc80c4f0c01",
   "metadata": {},
   "outputs": [],
   "source": [
    "import re\n",
    "k = input()\n",
    "p = [input() for i in range(k)]\n",
    "for no in p:\n",
    "    if len(str(no)) == 10 and bool(re.match (r'[789][\\d]{9}',no)):\n",
    "        print (\"YES\")\n",
    "    else :\n",
    "        print (\"NO\")\n"
   ]
  },
  {
   "cell_type": "markdown",
   "id": "be482f76-eabe-403e-b45d-208c3a0ec020",
   "metadata": {},
   "source": [
    "### Validating and Parsing Email Addresses\n",
    "\n"
   ]
  },
  {
   "cell_type": "code",
   "execution_count": 5,
   "id": "7ce52735-dbeb-4ab9-a61d-6768306ec137",
   "metadata": {},
   "outputs": [
    {
     "name": "stdin",
     "output_type": "stream",
     "text": [
      " 2\n",
      " DEXTER <dexter@hotmail.com>\n"
     ]
    },
    {
     "name": "stdout",
     "output_type": "stream",
     "text": [
      "DEXTER <dexter@hotmail.com>\n"
     ]
    },
    {
     "name": "stdin",
     "output_type": "stream",
     "text": [
      " VIRUS <virus!@variable.:p>\n"
     ]
    }
   ],
   "source": [
    "import re\n",
    "\n",
    "N = int(input())\n",
    "\n",
    "for i in range(N):\n",
    "    name, email = input().split()\n",
    "    pattern=\"<[a-z][a-zA-Z0-9\\-\\.\\_]+@[a-zA-Z]+\\.[a-zA-Z]{1,3}>\"\n",
    "    if bool(re.match(pattern, email)):\n",
    "        print(name,email)\n"
   ]
  },
  {
   "cell_type": "markdown",
   "id": "0ca1526a-9d64-4d8c-8063-8a1f3b55177c",
   "metadata": {},
   "source": [
    "### Hex Color Code\n",
    "\n"
   ]
  },
  {
   "cell_type": "code",
   "execution_count": null,
   "id": "5473c241-4c01-44ec-99b6-df0c8e5a543f",
   "metadata": {},
   "outputs": [],
   "source": [
    "import re\n",
    "\n",
    "T = input()\n",
    "in_css = False\n",
    "for _ in xrange(T):\n",
    "    s = raw_input()\n",
    "    if '{' in s:\n",
    "        in_css = True\n",
    "    elif '}' in s:\n",
    "        in_css = False\n",
    "    elif in_css:\n",
    "        for color in re.findall('#[0-9a-fA-F]{3,6}', s):\n",
    "            print color\n"
   ]
  },
  {
   "cell_type": "markdown",
   "id": "3e2eae77-b148-4ef7-98f7-1bb5e9ebdd59",
   "metadata": {},
   "source": [
    "### HTML Parser - Part 1\n",
    "\n"
   ]
  },
  {
   "cell_type": "code",
   "execution_count": null,
   "id": "db33042e-f03d-46fd-93c9-fae0cf7504f8",
   "metadata": {},
   "outputs": [],
   "source": [
    "from HTMLParser import HTMLParser\n",
    "class MyHTMLParser(HTMLParser):\n",
    "    def handle_starttag(self, tag, attrs):\n",
    "        print (\"Start :\", tag)\n",
    "        #print attrs\n",
    "        for i in attrs:\n",
    "            print (\"-> %s > %s\"%(i[0],i[1]))\n",
    "    def handle_endtag(self, tag):\n",
    "        print (\"End   :\", tag)\n",
    "    def handle_startendtag(self, tag, attrs):\n",
    "        print (\"Empty :\", tag)\n",
    "        for i in attrs:\n",
    "            print (\"-> %s > %s\"%(i[0],i[1]))\n",
    "\n",
    "data = [ raw_input() for _ in xrange(input())]\n",
    "moddata = ''.join(data)\n",
    "\n",
    "parser = MyHTMLParser()\n",
    "parser.feed(moddata)"
   ]
  },
  {
   "cell_type": "markdown",
   "id": "cbc5ba4f-0178-45ba-ad67-d87771f91834",
   "metadata": {},
   "source": [
    "### HTML Parser - Part 2\n",
    "\n"
   ]
  },
  {
   "cell_type": "code",
   "execution_count": null,
   "id": "be940b01-2969-4274-9331-adf65da301cc",
   "metadata": {},
   "outputs": [],
   "source": [
    "from HTMLParser import HTMLParser\n",
    "import re\n",
    "\n",
    "class MyHTMLParser(HTMLParser):\n",
    "    def handle_comment(self, data):\n",
    "        if re.findall(r'\\n',data):\n",
    "            print \">>> Multi-line Comment \\n\",data\n",
    "        else:\n",
    "            print \">>> Single-line Comment \\n\",data\n",
    "            \n",
    "    def handle_data(self, data):\n",
    "        if len(data) >1:\n",
    "            print \">>> Data\\n\",data  \n",
    "  \n",
    "  \n",
    "html = \"\"       \n",
    "for i in range(int(raw_input())):\n",
    "    html += raw_input().rstrip()\n",
    "    html += '\\n'\n",
    "    \n",
    "parser = MyHTMLParser()\n",
    "parser.feed(html)\n",
    "parser.close()\n"
   ]
  },
  {
   "cell_type": "markdown",
   "id": "0b65c5b2-e834-464e-88e9-ad5ac4a97d16",
   "metadata": {},
   "source": [
    "### Detect HTML Tags, Attributes and Attribute Values\n",
    "\n"
   ]
  },
  {
   "cell_type": "code",
   "execution_count": null,
   "id": "b9544cf1-21e5-4754-8dfa-46c92542fb77",
   "metadata": {},
   "outputs": [],
   "source": [
    "from __future__ import print_function\n",
    "import sys\n",
    "if sys.version_info[0]>=3:\n",
    "    raw_input=input\n",
    "    from html.parser import HTMLParser\n",
    "else:\n",
    "    from HTMLParser import HTMLParser\n",
    "\n",
    "from HTMLParser import HTMLParser\n",
    "class MyHTMLParser(HTMLParser):\n",
    "    def handle_starttag(self, tag, attrs):\n",
    "        print(tag)\n",
    "        for e in attrs: print(\"-> \"+e[0]+\" > \"+str(e[1]))\n",
    "    def handle_endtag(self, tag):\n",
    "        #print(\"End   : \"+tag)\n",
    "        pass\n",
    "    def handle_startendtag(self, tag, attrs):\n",
    "        print(tag)\n",
    "        for e in attrs: print(\"-> \"+e[0]+\" > \"+str(e[1]))\n",
    "\n",
    "parser = MyHTMLParser()\n",
    "for _ in range(int(raw_input())):\n",
    "    parser.feed(raw_input())\n"
   ]
  },
  {
   "cell_type": "markdown",
   "id": "49aac27a-6e29-4ea5-83af-663152ef50f0",
   "metadata": {},
   "source": [
    "### Validating UID\n",
    "\n"
   ]
  },
  {
   "cell_type": "code",
   "execution_count": null,
   "id": "b3ccd3c2-cd3d-4fa9-ad2e-e143e469b9eb",
   "metadata": {},
   "outputs": [],
   "source": [
    "import re\n",
    "for i in range(int(raw_input())):\n",
    "    N = raw_input().strip()\n",
    "    if N.isalnum() and len(N) == 10:\n",
    "        if bool(re.search(r'(.*[A-Z]){2,}',N)) and bool(re.search(r'(.*[0-9]){3,}',N)):\n",
    "            if re.search(r'.*(.).*\\1+.*',N):\n",
    "                print 'Invalid'\n",
    "            else:\n",
    "                print 'Valid'    \n",
    "        else:\n",
    "            print 'Invalid'\n",
    "    else:\n",
    "        print 'Invalid'\n"
   ]
  },
  {
   "cell_type": "markdown",
   "id": "23031577-1474-4c77-a893-63572afc7a35",
   "metadata": {},
   "source": [
    "### Validating Credit Card Numbers\n",
    "\n"
   ]
  },
  {
   "cell_type": "code",
   "execution_count": null,
   "id": "c8edff67-1b71-4fe9-8ada-f8bab43b1bb3",
   "metadata": {},
   "outputs": [],
   "source": [
    "import re\n",
    "for i in range(int(raw_input())):\n",
    "    S = raw_input().strip()\n",
    "    pre_match = re.search(r'^[456]\\d{3}(-?)\\d{4}\\1\\d{4}\\1\\d{4}$',S)\n",
    "    if pre_match:\n",
    "        processed_string = \"\".join(pre_match.group(0).split('-'))\n",
    "        final_match = re.search(r'(\\d)\\1{3,}',processed_string)\n",
    "        print 'Invalid' if final_match else 'Valid'\n",
    "    else:\n",
    "        print 'Invalid'\n"
   ]
  },
  {
   "cell_type": "markdown",
   "id": "eff6f7bf-6001-4ae1-9357-4f98add02292",
   "metadata": {},
   "source": [
    "### Validating Postal Codes\n",
    "\n"
   ]
  },
  {
   "cell_type": "code",
   "execution_count": 12,
   "id": "442b514b-3279-46fa-8caf-5826b3cbe9d3",
   "metadata": {},
   "outputs": [],
   "source": [
    "regex_integer_in_range = r\"^[1-9][\\d]{5}$\"\t# Do not delete 'r'.\n",
    "regex_alternating_repetitive_digit_pair = r\"(\\d)(?=\\d\\1)\"\t# Do not delete 'r'.\n",
    "\n"
   ]
  },
  {
   "cell_type": "markdown",
   "id": "d48a3c07-0fb2-4d5b-b0b1-9a7f199f9c2e",
   "metadata": {},
   "source": [
    "### Matrix Script\n",
    "\n"
   ]
  },
  {
   "cell_type": "code",
   "execution_count": 11,
   "id": "f96339f4-2dbf-4804-824d-9fbb7ebb8a70",
   "metadata": {},
   "outputs": [
    {
     "name": "stdin",
     "output_type": "stream",
     "text": [
      " 7 3\n",
      " Tsi\n",
      " h%x\n",
      " i #\n",
      " sM \n",
      " $a \n",
      " #t%\n",
      " ir!\n"
     ]
    },
    {
     "name": "stdout",
     "output_type": "stream",
     "text": [
      "This is Matrix#  %!\n"
     ]
    }
   ],
   "source": [
    "#!/bin/python\n",
    "\n",
    "import math\n",
    "import os\n",
    "import random\n",
    "import re\n",
    "import sys\n",
    "\n",
    "\n",
    "\n",
    "\n",
    "first_multiple_input = input().rstrip().split()\n",
    "\n",
    "n = int(first_multiple_input[0])\n",
    "\n",
    "m = int(first_multiple_input[1])\n",
    "\n",
    "matrix = []\n",
    "\n",
    "for _ in range(n):\n",
    "    matrix_item = input()\n",
    "    matrix.append(matrix_item)\n",
    "\n",
    "matrix = list(zip(*matrix))\n",
    "\n",
    "sample = str()\n",
    "\n",
    "for words in matrix:\n",
    "    for char in words:\n",
    "        sample += char\n",
    "       \n",
    "print(re.sub(r'(?<=\\w)([^\\w\\d]+)(?=\\w)', ' ', sample)) \n"
   ]
  },
  {
   "cell_type": "markdown",
   "id": "7f1825c3-d65d-4b57-93c9-fd896df934b1",
   "metadata": {},
   "source": [
    "## XML"
   ]
  },
  {
   "cell_type": "markdown",
   "id": "c2a87854-aba8-43ab-84f7-9aa91f25c72a",
   "metadata": {},
   "source": [
    "### XML 1 - Find the Score\n",
    "\n"
   ]
  },
  {
   "cell_type": "code",
   "execution_count": 12,
   "id": "bb162208-01b1-4aa7-ba06-b337420a53fd",
   "metadata": {},
   "outputs": [],
   "source": [
    "\n",
    "\n",
    "def get_attr_number(node):\n",
    "    count = 0\n",
    "    for tag in node:\n",
    "        count = count + get_attr_number(tag)\n",
    "    return count + len(node.attrib)\n",
    "\n"
   ]
  },
  {
   "cell_type": "markdown",
   "id": "1522b860-a8ad-489a-9be9-3078f0297d0d",
   "metadata": {},
   "source": [
    "### XML2 - Find the Maximum Depth\n",
    "\n"
   ]
  },
  {
   "cell_type": "code",
   "execution_count": 13,
   "id": "79ba0d9e-ee8a-4efe-aa2e-8b364bb293b8",
   "metadata": {},
   "outputs": [],
   "source": [
    "\n",
    "\n",
    "maxdepth = 0\n",
    "def depth(elem, level):\n",
    "    global maxdepth\n",
    "    level += 1\n",
    "    if (maxdepth < level):\n",
    "        maxdepth = level\n",
    "    for child in elem:\n",
    "        depth(child, level)\n"
   ]
  },
  {
   "cell_type": "markdown",
   "id": "3e4d3a87-1f7b-4b85-940c-092fccc0f7b8",
   "metadata": {},
   "source": [
    "## Closures and Decorators"
   ]
  },
  {
   "cell_type": "markdown",
   "id": "ca5bbaa5-9b8e-4da5-82af-e32fcbbaa621",
   "metadata": {},
   "source": [
    "### Standardize Mobile Number Using Decorators\n",
    "\n"
   ]
  },
  {
   "cell_type": "code",
   "execution_count": 14,
   "id": "1253165f-e590-4ec7-ae20-464da4544fe3",
   "metadata": {},
   "outputs": [],
   "source": [
    "def wrapper(f):\n",
    "    def fun(l):\n",
    "        f(['+91 ' + c[-10:-5] + ' ' + c[-5:] for c in l])\n",
    "    return fun\n",
    "\n"
   ]
  },
  {
   "cell_type": "markdown",
   "id": "1417e8d1-81b5-4aa6-b004-c12ad1815667",
   "metadata": {},
   "source": [
    "### Decorators 2 - Name Directory\n",
    "\n"
   ]
  },
  {
   "cell_type": "code",
   "execution_count": 15,
   "id": "d7b83184-ff48-4fe2-a7de-2263975a802c",
   "metadata": {},
   "outputs": [],
   "source": [
    "\n",
    "\n",
    "def person_lister(f):\n",
    "    def inner(people):\n",
    "        return map(f, sorted(people, key=lambda x: int(x[2])))\n",
    "    return inner\n",
    "\n"
   ]
  },
  {
   "cell_type": "markdown",
   "id": "2807b19a-a5d4-440f-9eb2-a17b760ed2a9",
   "metadata": {},
   "source": [
    "## Numpy"
   ]
  },
  {
   "cell_type": "markdown",
   "id": "2da6af18-286a-4f8f-8269-9b98cc09758e",
   "metadata": {},
   "source": [
    "### Arrays"
   ]
  },
  {
   "cell_type": "code",
   "execution_count": 16,
   "id": "591ab8fa-8d09-4ec0-803a-d9948e947e13",
   "metadata": {},
   "outputs": [],
   "source": [
    "\n",
    "\n",
    "def arrays(arr):\n",
    "    arr1 = numpy.array(arr, dtype = float)\n",
    "    arr2 = numpy.array(arr[::-1], dtype = float)\n",
    "    return arr2\n",
    "\n"
   ]
  },
  {
   "cell_type": "markdown",
   "id": "19aec9cf-7e0d-4537-8838-a9f6adab0990",
   "metadata": {},
   "source": [
    "### Shape and Reshape\n",
    "\n"
   ]
  },
  {
   "cell_type": "code",
   "execution_count": 20,
   "id": "7a61de5b-5c38-4ba2-af8a-9e0e5ae3e199",
   "metadata": {},
   "outputs": [
    {
     "name": "stdin",
     "output_type": "stream",
     "text": [
      " 1 2 3 4 5 6 7 8 9\n"
     ]
    },
    {
     "name": "stdout",
     "output_type": "stream",
     "text": [
      "[[1 2 3]\n",
      " [4 5 6]\n",
      " [7 8 9]]\n"
     ]
    }
   ],
   "source": [
    "import numpy\n",
    "\n",
    "lis = numpy.array(input().split(' '), int)\n",
    "print (lis.reshape(3, 3))\n"
   ]
  },
  {
   "cell_type": "markdown",
   "id": "5b47cedd-d849-4800-9f30-02c19e9d04d2",
   "metadata": {},
   "source": [
    "### Transpose and Flatten\n",
    "\n"
   ]
  },
  {
   "cell_type": "code",
   "execution_count": null,
   "id": "ab05ca77-84b2-4857-8ed8-126290fd6903",
   "metadata": {},
   "outputs": [],
   "source": [
    "import numpy\n",
    "\n",
    "m = map(int,raw_input().split())\n",
    "k = [map(int,raw_input().split()) for _ in xrange(m[0])]\n",
    "n = numpy.array(k)\n",
    "print numpy.transpose(n)\n",
    "print n.flatten()\n",
    "\n",
    "\n"
   ]
  },
  {
   "cell_type": "markdown",
   "id": "1f5654b6-a919-47d1-b0ec-b7db51a79496",
   "metadata": {},
   "source": [
    "### Concatenate"
   ]
  },
  {
   "cell_type": "code",
   "execution_count": null,
   "id": "181440d6-3ae0-4ab1-9e9c-07825eba05b8",
   "metadata": {},
   "outputs": [],
   "source": [
    "import numpy\n",
    "\n",
    "NMP = map(int, raw_input().split())\n",
    "N = numpy.array([raw_input().split() for i in range(NMP[0])], int)\n",
    "M = numpy.array([raw_input().split() for i in range(NMP[1])], int)\n",
    "\n",
    "print numpy.concatenate((N, M), axis = 0)\n",
    "\n",
    "\n"
   ]
  },
  {
   "cell_type": "markdown",
   "id": "1c850a5d-daab-44ff-9641-49837f470580",
   "metadata": {},
   "source": [
    "### Zeros and Ones\n",
    "\n"
   ]
  },
  {
   "cell_type": "code",
   "execution_count": null,
   "id": "ff00749a-3e3a-4e68-8396-dfc5953609d0",
   "metadata": {},
   "outputs": [],
   "source": [
    "import numpy\n",
    "def arrays(arr):\n",
    "    arr1 = numpy.array(arr, dtype = int)\n",
    "    arr2 = numpy.zeros(arr1, dtype = int)\n",
    "    arr3 = numpy.ones(arr1, dtype = int)\n",
    "    return arr2, arr3\n",
    "\n",
    "arr = input().strip().split(' ')\n",
    "arr2, arr3 = arrays(arr)\n",
    "\n",
    "print(arr2)\n",
    "print(arr3)\n",
    "\n",
    "\n"
   ]
  },
  {
   "cell_type": "markdown",
   "id": "6adae6d6-1bad-44e9-b0a6-d4c62ba79334",
   "metadata": {},
   "source": [
    "### Eye and Identity\n",
    "\n"
   ]
  },
  {
   "cell_type": "code",
   "execution_count": 15,
   "id": "afe501ff-5cde-46e9-9a57-9dc8a7c5534f",
   "metadata": {},
   "outputs": [
    {
     "name": "stdin",
     "output_type": "stream",
     "text": [
      " 3 3\n"
     ]
    },
    {
     "name": "stdout",
     "output_type": "stream",
     "text": [
      "[[ 1.  0.  0.]\n",
      " [ 0.  1.  0.]\n",
      " [ 0.  0.  1.]]\n"
     ]
    }
   ],
   "source": [
    "import numpy\n",
    "\n",
    "numpy.set_printoptions(sign=' ')\n",
    "\n",
    "N, M = map(int, input().split())\n",
    "eye = numpy.eye(N, M)\n",
    "print(eye)\n",
    "\n"
   ]
  },
  {
   "cell_type": "markdown",
   "id": "c3a11879-4ed8-4b3d-a6a2-356c9c4e6210",
   "metadata": {},
   "source": [
    "### Array Mathematics\n",
    "\n"
   ]
  },
  {
   "cell_type": "code",
   "execution_count": null,
   "id": "b57ca2da-f13e-4dfc-b074-96a528284a11",
   "metadata": {},
   "outputs": [],
   "source": [
    "import numpy\n",
    "\n",
    "k = map(int,raw_input().split())\n",
    "a,b = [],[]\n",
    "for i in xrange(k[0]):\n",
    "    a.append(map(int,raw_input().split()))\n",
    "for i in xrange(k[0]):\n",
    "    b.append(map(int,raw_input().split()))\n",
    "A,B = numpy.array(a),numpy.array(b)\n",
    "print numpy.add(A,B)\n",
    "print numpy.subtract(A,B)\n",
    "print numpy.multiply(A,B)\n",
    "print numpy.divide(A,B)\n",
    "print numpy.mod(A,B)\n",
    "print numpy.power(A,B)\n",
    "\n"
   ]
  },
  {
   "cell_type": "markdown",
   "id": "ebfabbb9-d709-406d-b17b-ff9e44a23ea7",
   "metadata": {},
   "source": [
    "### Floor, Ceil and Rint\n",
    "\n"
   ]
  },
  {
   "cell_type": "code",
   "execution_count": 22,
   "id": "ff157a3f-df63-49f0-8d1d-9ad558cb970b",
   "metadata": {},
   "outputs": [
    {
     "name": "stdin",
     "output_type": "stream",
     "text": [
      " 1.1 2.2 3.3 4.4 5.5 6.6 7.7 8.8 9.9\n"
     ]
    },
    {
     "name": "stdout",
     "output_type": "stream",
     "text": [
      "[ 1.  2.  3.  4.  5.  6.  7.  8.  9.]\n",
      "[  2.   3.   4.   5.   6.   7.   8.   9.  10.]\n",
      "[  1.   2.   3.   4.   6.   7.   8.   9.  10.]\n"
     ]
    }
   ],
   "source": [
    "import numpy\n",
    "numpy.set_printoptions(sign=' ')\n",
    "def arrays(arr):\n",
    "    arr1 = numpy.array(arr, dtype = float)\n",
    "\n",
    "    floor = numpy.floor(arr1)\n",
    "    ceil = numpy.ceil(arr1)\n",
    "    rint = numpy.rint(arr1)\n",
    "\n",
    "    return floor, ceil, rint    \n",
    "arr = input().strip().split(' ')\n",
    "floor, ceil, rint = arrays(arr)\n",
    "print(floor)\n",
    "print(ceil)\n",
    "print(rint)\n",
    "\n",
    "\n"
   ]
  },
  {
   "cell_type": "markdown",
   "id": "04ef6e00-a6ea-42ae-82e6-6102e31b96b9",
   "metadata": {},
   "source": [
    "### Sum and Prod\n",
    "\n"
   ]
  },
  {
   "cell_type": "code",
   "execution_count": 17,
   "id": "ee624b86-e409-4d7d-863e-36cab7163398",
   "metadata": {},
   "outputs": [
    {
     "name": "stdin",
     "output_type": "stream",
     "text": [
      " 2 2\n",
      " 1 2\n",
      " 3 4\n"
     ]
    },
    {
     "name": "stdout",
     "output_type": "stream",
     "text": [
      "24\n"
     ]
    }
   ],
   "source": [
    "import numpy\n",
    "\n",
    "N, M = map(int, input().split())\n",
    "\n",
    "array = numpy.array([input().split() for i in range(N)], int)\n",
    "\n",
    "print(numpy.prod(numpy.sum(array, axis = 0), axis = None))\n",
    "\n"
   ]
  },
  {
   "cell_type": "markdown",
   "id": "05ebe7f8-2117-4336-89a6-68b401387dd5",
   "metadata": {},
   "source": [
    "### Min and Max\n",
    "\n"
   ]
  },
  {
   "cell_type": "code",
   "execution_count": 18,
   "id": "33fecfb0-548e-48f6-9492-686b8532fac2",
   "metadata": {},
   "outputs": [
    {
     "name": "stdin",
     "output_type": "stream",
     "text": [
      " 4 2\n",
      " 2 5\n",
      " 3 7\n",
      " 1 3\n",
      " 4 0\n"
     ]
    },
    {
     "name": "stdout",
     "output_type": "stream",
     "text": [
      "3\n"
     ]
    }
   ],
   "source": [
    "import numpy\n",
    "\n",
    "N, M = map(int, input().split())\n",
    "\n",
    "A = numpy.array([input().split() for i in range(N)],dtype = int)\n",
    "print(numpy.max(numpy.min(A, axis=1), axis=0))\n",
    "\n"
   ]
  },
  {
   "cell_type": "markdown",
   "id": "6ea63605-6f18-4f0c-afda-e0e8c2f41d7e",
   "metadata": {},
   "source": [
    "### Dot and Cross\n",
    "\n"
   ]
  },
  {
   "cell_type": "code",
   "execution_count": 19,
   "id": "a8f30cf3-391c-4cb9-aedd-a1781ff1e164",
   "metadata": {},
   "outputs": [
    {
     "name": "stdin",
     "output_type": "stream",
     "text": [
      " 2\n",
      " 1 2\n",
      " 3 4\n",
      " 1 2\n",
      " 3 4\n"
     ]
    },
    {
     "name": "stdout",
     "output_type": "stream",
     "text": [
      "[[ 7 10]\n",
      " [15 22]]\n"
     ]
    }
   ],
   "source": [
    "import numpy\n",
    "N = int(input())\n",
    "A = numpy.array([input().split() for i in range(N)], dtype =int)\n",
    "B = numpy.array([input().split() for i in range(N)], dtype =int)\n",
    "C = numpy.dot(A,B)\n",
    "print(C)\n",
    "\n",
    "\n"
   ]
  },
  {
   "cell_type": "markdown",
   "id": "edd1ce92-f95a-475b-bd8f-6cf81dc5d532",
   "metadata": {},
   "source": [
    "### Inner and Outer\n",
    "\n"
   ]
  },
  {
   "cell_type": "code",
   "execution_count": 23,
   "id": "77c4445c-81d4-46f7-855b-5df63913c1bc",
   "metadata": {},
   "outputs": [
    {
     "name": "stdin",
     "output_type": "stream",
     "text": [
      " 0 1\n",
      " 2 3\n"
     ]
    },
    {
     "name": "stdout",
     "output_type": "stream",
     "text": [
      "3\n",
      "[[0 0]\n",
      " [2 3]]\n"
     ]
    }
   ],
   "source": [
    "import numpy\n",
    "a = numpy.array(input().split() , int)\n",
    "b = numpy.array(input().split() , int)\n",
    "print(numpy.inner(a, b))\n",
    "print(numpy.outer(a, b))\n",
    "\n",
    "\n"
   ]
  },
  {
   "cell_type": "markdown",
   "id": "f0aa3a23-89d3-4181-a0af-2ac5793ad26d",
   "metadata": {},
   "source": [
    "### Polynomials\n",
    "\n"
   ]
  },
  {
   "cell_type": "code",
   "execution_count": 20,
   "id": "e01266b3-59d3-4d02-9a5b-90b470824641",
   "metadata": {},
   "outputs": [
    {
     "name": "stdin",
     "output_type": "stream",
     "text": [
      " 1.1 2 3\n",
      " 0\n"
     ]
    },
    {
     "name": "stdout",
     "output_type": "stream",
     "text": [
      "3.0\n"
     ]
    }
   ],
   "source": [
    "import numpy\n",
    "\n",
    "m = numpy.array(input().split(), float)\n",
    "n = float(input())\n",
    "print(numpy.polyval(m, n))\n",
    "\n"
   ]
  },
  {
   "cell_type": "markdown",
   "id": "35917598-b560-4bdd-bf4b-5c1fb0b63343",
   "metadata": {},
   "source": [
    "### Linear Algebra\n",
    "\n"
   ]
  },
  {
   "cell_type": "code",
   "execution_count": 24,
   "id": "f63e7799-83c1-4a21-9c4b-7eca5948f348",
   "metadata": {},
   "outputs": [
    {
     "name": "stdin",
     "output_type": "stream",
     "text": [
      " 2\n",
      " 1.1 1.1\n",
      " 1.1 1.1\n"
     ]
    },
    {
     "name": "stdout",
     "output_type": "stream",
     "text": [
      "0.0\n"
     ]
    }
   ],
   "source": [
    "import numpy\n",
    "\n",
    "numpy.set_printoptions(legacy='1.13')\n",
    "\n",
    "N = int(input())\n",
    "\n",
    "A = numpy.array([input().split() for i in range(N)], float)\n",
    "print(numpy.linalg.det(A))\n",
    "\n"
   ]
  },
  {
   "cell_type": "markdown",
   "id": "2b4fe423-6746-420f-965a-e77fc270c217",
   "metadata": {},
   "source": [
    "# Problem 2"
   ]
  },
  {
   "cell_type": "markdown",
   "id": "0214ae42-2592-4f64-a7cf-9104c977ccd3",
   "metadata": {},
   "source": [
    "### Birthday Cake Candles\n",
    "\n"
   ]
  },
  {
   "cell_type": "code",
   "execution_count": null,
   "id": "add7ea64-e270-4378-8c88-525d0b02ed73",
   "metadata": {},
   "outputs": [],
   "source": [
    "#!/bin/python\n",
    "\n",
    "import math\n",
    "import os\n",
    "import random\n",
    "import re\n",
    "import sys\n",
    "\n",
    "#\n",
    "# Complete the 'birthdayCakeCandles' function below.\n",
    "#\n",
    "# The function is expected to return an INTEGER.\n",
    "# The function accepts INTEGER_ARRAY candles as parameter.\n",
    "#\n",
    "\n",
    "def birthdayCakeCandles(candles):\n",
    "    candles.sort()\n",
    "\n",
    "    result = candles.count(candles[len(candles)-1])\n",
    "    return result\n",
    "\n",
    "\n",
    "if __name__ == '__main__':\n",
    "    fptr = open(os.environ['OUTPUT_PATH'], 'w')\n",
    "\n",
    "    candles_count = int(raw_input().strip())\n",
    "\n",
    "    candles = map(int, raw_input().rstrip().split())\n",
    "\n",
    "    result = birthdayCakeCandles(candles)\n",
    "\n",
    "    fptr.write(str(result) + '\\n')\n",
    "\n",
    "    fptr.close()\n"
   ]
  },
  {
   "cell_type": "markdown",
   "id": "476f14e4-eb5b-4470-b0c0-ebb655f653f7",
   "metadata": {},
   "source": [
    "### Insertion Sort - Part 1\n",
    "\n"
   ]
  },
  {
   "cell_type": "code",
   "execution_count": null,
   "id": "2cac6ff6-96d8-4c98-b385-9ce70f91c28a",
   "metadata": {},
   "outputs": [],
   "source": [
    "#!/bin/python\n",
    "\n",
    "import math\n",
    "import os\n",
    "import random\n",
    "import re\n",
    "import sys\n",
    "\n",
    "#\n",
    "# Complete the 'insertionSort1' function below.\n",
    "#\n",
    "# The function accepts following parameters:\n",
    "#  1. INTEGER n\n",
    "#  2. INTEGER_ARRAY arr\n",
    "#\n",
    "\n",
    "def insertionSort1(n, arr):\n",
    "    probe = arr[-1]\n",
    "    \n",
    "    for ind in range(len(arr)-2, -1, -1):\n",
    "        if arr[ind] > probe:\n",
    "            arr[ind+1] = arr[ind]\n",
    "            print(\" \".join(map(str, arr)))\n",
    "        else:\n",
    "            arr[ind+1] = probe\n",
    "            print(\" \".join(map(str, arr)))\n",
    "            break\n",
    "    if arr[0] > probe:\n",
    "        arr[0] = probe\n",
    "        print(\" \".join(map(str, arr)))\n",
    "\n",
    "if __name__ == '__main__':\n",
    "    n = int(raw_input().strip())\n",
    "\n",
    "    arr = map(int, raw_input().rstrip().split())\n",
    "\n",
    "    insertionSort1(n, arr)\n"
   ]
  },
  {
   "cell_type": "markdown",
   "id": "6b85a38e-8734-4323-a5bc-fda76781a3d0",
   "metadata": {},
   "source": [
    "### Recursive Digit Sum"
   ]
  },
  {
   "cell_type": "code",
   "execution_count": 26,
   "id": "8f626263-585a-4da9-9739-4f06e78e2ab9",
   "metadata": {},
   "outputs": [],
   "source": [
    "def superDigit(n, k):\n",
    "    return 1 + (k * sum(int(x) for x in n) - 1) % 9"
   ]
  },
  {
   "cell_type": "code",
   "execution_count": null,
   "id": "50864069-1699-4517-9a19-8a96d8b12219",
   "metadata": {},
   "outputs": [],
   "source": []
  }
 ],
 "metadata": {
  "kernelspec": {
   "display_name": "Python 3",
   "language": "python",
   "name": "python3"
  },
  "language_info": {
   "codemirror_mode": {
    "name": "ipython",
    "version": 3
   },
   "file_extension": ".py",
   "mimetype": "text/x-python",
   "name": "python",
   "nbconvert_exporter": "python",
   "pygments_lexer": "ipython3",
   "version": "3.8.8"
  }
 },
 "nbformat": 4,
 "nbformat_minor": 5
}
